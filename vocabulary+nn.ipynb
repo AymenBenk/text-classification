{
 "cells": [
  {
   "cell_type": "markdown",
   "metadata": {},
   "source": [
    "# Work Flow For Google News 300 with CNN\n",
    "\n",
    "1. x_train: \\[text1, text2, ...\\]\n",
    "   y_train: \\[label1, label2, ...\\]\n",
    "\n",
    "2. Generate vocabulary set and get token_to_id map. This map will map a word to an index in vocabulary space. Transform text to \\[index1, index2, ..., \\]. \n",
    "\n",
    "   Padded sequences to fixed length (750, )\n",
    "    \n",
    "3. Word Vector - Google News 300\n",
    "\n",
    "4. CNN model\n",
    "\n",
    "The accuracy is 0.81."
   ]
  },
  {
   "cell_type": "code",
   "execution_count": 245,
   "metadata": {},
   "outputs": [
    {
     "name": "stdout",
     "output_type": "stream",
     "text": [
      "The autoreload extension is already loaded. To reload it, use:\n",
      "  %reload_ext autoreload\n"
     ]
    }
   ],
   "source": [
    "%load_ext autoreload"
   ]
  },
  {
   "cell_type": "code",
   "execution_count": 260,
   "metadata": {},
   "outputs": [],
   "source": [
    "%autoreload"
   ]
  },
  {
   "cell_type": "code",
   "execution_count": 247,
   "metadata": {},
   "outputs": [],
   "source": [
    "import os\n",
    "os.environ[\"KMP_DUPLICATE_LIB_OK\"]=\"TRUE\""
   ]
  },
  {
   "cell_type": "code",
   "execution_count": 248,
   "metadata": {},
   "outputs": [
    {
     "name": "stdout",
     "output_type": "stream",
     "text": [
      "========== Extract data from pickle files ==========\n"
     ]
    }
   ],
   "source": [
    "from src.data_preprocess.preprocess import DataProcessor\n",
    "data_preprocessor = DataProcessor()\n",
    "train_documents, test_documents = data_preprocessor.get_train_and_test_documents()"
   ]
  },
  {
   "cell_type": "code",
   "execution_count": 261,
   "metadata": {},
   "outputs": [
    {
     "data": {
      "text/plain": [
       "(7310, 7310, 3347, 3347)"
      ]
     },
     "execution_count": 261,
     "metadata": {},
     "output_type": "execute_result"
    }
   ],
   "source": [
    "from nltk.tokenize import word_tokenize\n",
    "x_train = []\n",
    "y_train = []\n",
    "x_test = []\n",
    "y_test = []\n",
    "bag_of_classes = set()\n",
    "\n",
    "for document in train_documents:\n",
    "    bag_of_classes.add(document.class_list[0])\n",
    "    tokens, tf = data_preprocessor.convert_text_to_word_list(document.text)\n",
    "    x_train.append(' '.join(tokens))\n",
    "    y_train.append(document.class_list[0])\n",
    "        \n",
    "for document in test_documents:\n",
    "    for class_ in document.class_list:\n",
    "        if class_ in bag_of_classes:\n",
    "            tokens, tf = data_preprocessor.convert_text_to_word_list(document.text)\n",
    "            x_test.append(' '.join(tokens))\n",
    "            y_test.append(class_)\n",
    "            break\n",
    "\n",
    "len(x_train), len(y_train), len(x_test), len(y_test)"
   ]
  },
  {
   "cell_type": "code",
   "execution_count": 262,
   "metadata": {},
   "outputs": [
    {
     "data": {
      "text/plain": [
       "'summit petroleum corp sells shares abilene texas march summit petroleum corp sold shares common stock halbert associates company shares previously held consolidated energy corp harken hogi addition david halbert president chief executive officer halbert abilene investment firm named chairman chief executive summit company halbert charles bruce james burke named directors expanding board summit added company burke president chief executive allied comprehensive health abilene bruce partner washington firm butler binion summit intends actively seek acquisitions increase asset base reuter'"
      ]
     },
     "execution_count": 262,
     "metadata": {},
     "output_type": "execute_result"
    }
   ],
   "source": [
    "x_train[300]"
   ]
  },
  {
   "cell_type": "markdown",
   "metadata": {},
   "source": [
    "# Convert text to vector"
   ]
  },
  {
   "cell_type": "code",
   "execution_count": 263,
   "metadata": {},
   "outputs": [],
   "source": [
    "from keras.preprocessing.text import Tokenizer\n",
    "\n",
    "MAX_NUM_WORDS = 20000\n",
    "\n",
    "tokenizer = Tokenizer(num_words=MAX_NUM_WORDS)\n",
    "tokenizer.fit_on_texts(x_train+x_test)\n",
    "sequences_train = tokenizer.texts_to_sequences(x_train)\n",
    "sequences_test = tokenizer.texts_to_sequences(x_test)"
   ]
  },
  {
   "cell_type": "code",
   "execution_count": 264,
   "metadata": {},
   "outputs": [
    {
     "data": {
      "text/plain": [
       "28451"
      ]
     },
     "execution_count": 264,
     "metadata": {},
     "output_type": "execute_result"
    }
   ],
   "source": [
    "word_index = tokenizer.word_index\n",
    "len(word_index)"
   ]
  },
  {
   "cell_type": "code",
   "execution_count": 265,
   "metadata": {},
   "outputs": [
    {
     "data": {
      "text/plain": [
       "28451"
      ]
     },
     "execution_count": 265,
     "metadata": {},
     "output_type": "execute_result"
    }
   ],
   "source": [
    "max(word_index.values())"
   ]
  },
  {
   "cell_type": "code",
   "execution_count": 267,
   "metadata": {},
   "outputs": [
    {
     "data": {
      "text/plain": [
       "((7310, 750), (3347, 750))"
      ]
     },
     "execution_count": 267,
     "metadata": {},
     "output_type": "execute_result"
    }
   ],
   "source": [
    "from keras.preprocessing.sequence import pad_sequences\n",
    "\n",
    "MAX_SEQUENCE_LENGTH = 750\n",
    "\n",
    "data_train_X = pad_sequences(sequences_train, maxlen=MAX_SEQUENCE_LENGTH, padding='post')\n",
    "data_test_X = pad_sequences(sequences_test, maxlen=MAX_SEQUENCE_LENGTH, padding='post')\n",
    "data_train_X.shape, data_test_X.shape"
   ]
  },
  {
   "cell_type": "code",
   "execution_count": 268,
   "metadata": {},
   "outputs": [
    {
     "data": {
      "text/plain": [
       "array([ 1835,   217,    12,   705,    16, 11530,   270,     3,  1835,\n",
       "         217,    12,   208,    16,    69,    17,  9967,   969,     9,\n",
       "          16,   216,   219,   810,   197,    12, 17983, 17984,   555,\n",
       "        1151,  9967,    96,   401,   362,   775,  9967, 11530,    84,\n",
       "         198,   918,   132,   401,   362,  1835,     9,  9967,  1978,\n",
       "        4258,   702,  9968,   918,   562,  2017,    59,  1835,    60,\n",
       "           9,  9968,    96,   401,   362,   778,  3138,   795, 11530,\n",
       "        4258,  1619,    47,   198,  5227, 17985,  1835,  1149,  2261,\n",
       "         577,   686,    58,  1199,   357,     2,     0,     0,     0,\n",
       "           0,     0,     0,     0,     0,     0,     0,     0,     0,\n",
       "           0,     0,     0,     0,     0,     0,     0,     0,     0,\n",
       "           0,     0,     0,     0,     0,     0,     0,     0,     0,\n",
       "           0,     0,     0,     0,     0,     0,     0,     0,     0,\n",
       "           0,     0,     0,     0,     0,     0,     0,     0,     0,\n",
       "           0,     0,     0,     0,     0,     0,     0,     0,     0,\n",
       "           0,     0,     0,     0,     0,     0,     0,     0,     0,\n",
       "           0,     0,     0,     0,     0,     0,     0,     0,     0,\n",
       "           0,     0,     0,     0,     0,     0,     0,     0,     0,\n",
       "           0,     0,     0,     0,     0,     0,     0,     0,     0,\n",
       "           0,     0,     0,     0,     0,     0,     0,     0,     0,\n",
       "           0,     0,     0,     0,     0,     0,     0,     0,     0,\n",
       "           0,     0,     0,     0,     0,     0,     0,     0,     0,\n",
       "           0,     0,     0,     0,     0,     0,     0,     0,     0,\n",
       "           0,     0,     0,     0,     0,     0,     0,     0,     0,\n",
       "           0,     0,     0,     0,     0,     0,     0,     0,     0,\n",
       "           0,     0,     0,     0,     0,     0,     0,     0,     0,\n",
       "           0,     0,     0,     0,     0,     0,     0,     0,     0,\n",
       "           0,     0,     0,     0,     0,     0,     0,     0,     0,\n",
       "           0,     0,     0,     0,     0,     0,     0,     0,     0,\n",
       "           0,     0,     0,     0,     0,     0,     0,     0,     0,\n",
       "           0,     0,     0,     0,     0,     0,     0,     0,     0,\n",
       "           0,     0,     0,     0,     0,     0,     0,     0,     0,\n",
       "           0,     0,     0,     0,     0,     0,     0,     0,     0,\n",
       "           0,     0,     0,     0,     0,     0,     0,     0,     0,\n",
       "           0,     0,     0,     0,     0,     0,     0,     0,     0,\n",
       "           0,     0,     0,     0,     0,     0,     0,     0,     0,\n",
       "           0,     0,     0,     0,     0,     0,     0,     0,     0,\n",
       "           0,     0,     0,     0,     0,     0,     0,     0,     0,\n",
       "           0,     0,     0,     0,     0,     0,     0,     0,     0,\n",
       "           0,     0,     0,     0,     0,     0,     0,     0,     0,\n",
       "           0,     0,     0,     0,     0,     0,     0,     0,     0,\n",
       "           0,     0,     0,     0,     0,     0,     0,     0,     0,\n",
       "           0,     0,     0,     0,     0,     0,     0,     0,     0,\n",
       "           0,     0,     0,     0,     0,     0,     0,     0,     0,\n",
       "           0,     0,     0,     0,     0,     0,     0,     0,     0,\n",
       "           0,     0,     0,     0,     0,     0,     0,     0,     0,\n",
       "           0,     0,     0,     0,     0,     0,     0,     0,     0,\n",
       "           0,     0,     0,     0,     0,     0,     0,     0,     0,\n",
       "           0,     0,     0,     0,     0,     0,     0,     0,     0,\n",
       "           0,     0,     0,     0,     0,     0,     0,     0,     0,\n",
       "           0,     0,     0,     0,     0,     0,     0,     0,     0,\n",
       "           0,     0,     0,     0,     0,     0,     0,     0,     0,\n",
       "           0,     0,     0,     0,     0,     0,     0,     0,     0,\n",
       "           0,     0,     0,     0,     0,     0,     0,     0,     0,\n",
       "           0,     0,     0,     0,     0,     0,     0,     0,     0,\n",
       "           0,     0,     0,     0,     0,     0,     0,     0,     0,\n",
       "           0,     0,     0,     0,     0,     0,     0,     0,     0,\n",
       "           0,     0,     0,     0,     0,     0,     0,     0,     0,\n",
       "           0,     0,     0,     0,     0,     0,     0,     0,     0,\n",
       "           0,     0,     0,     0,     0,     0,     0,     0,     0,\n",
       "           0,     0,     0,     0,     0,     0,     0,     0,     0,\n",
       "           0,     0,     0,     0,     0,     0,     0,     0,     0,\n",
       "           0,     0,     0,     0,     0,     0,     0,     0,     0,\n",
       "           0,     0,     0,     0,     0,     0,     0,     0,     0,\n",
       "           0,     0,     0,     0,     0,     0,     0,     0,     0,\n",
       "           0,     0,     0,     0,     0,     0,     0,     0,     0,\n",
       "           0,     0,     0,     0,     0,     0,     0,     0,     0,\n",
       "           0,     0,     0,     0,     0,     0,     0,     0,     0,\n",
       "           0,     0,     0,     0,     0,     0,     0,     0,     0,\n",
       "           0,     0,     0,     0,     0,     0,     0,     0,     0,\n",
       "           0,     0,     0,     0,     0,     0,     0,     0,     0,\n",
       "           0,     0,     0,     0,     0,     0,     0,     0,     0,\n",
       "           0,     0,     0,     0,     0,     0,     0,     0,     0,\n",
       "           0,     0,     0,     0,     0,     0,     0,     0,     0,\n",
       "           0,     0,     0,     0,     0,     0,     0,     0,     0,\n",
       "           0,     0,     0,     0,     0,     0,     0,     0,     0,\n",
       "           0,     0,     0,     0,     0,     0,     0,     0,     0,\n",
       "           0,     0,     0,     0,     0,     0,     0,     0,     0,\n",
       "           0,     0,     0,     0,     0,     0,     0,     0,     0,\n",
       "           0,     0,     0,     0,     0,     0,     0,     0,     0,\n",
       "           0,     0,     0,     0,     0,     0,     0,     0,     0,\n",
       "           0,     0,     0,     0,     0,     0,     0,     0,     0,\n",
       "           0,     0,     0,     0,     0,     0,     0,     0,     0,\n",
       "           0,     0,     0], dtype=int32)"
      ]
     },
     "execution_count": 268,
     "metadata": {},
     "output_type": "execute_result"
    }
   ],
   "source": [
    "data_train_X[300]"
   ]
  },
  {
   "cell_type": "code",
   "execution_count": 269,
   "metadata": {},
   "outputs": [
    {
     "data": {
      "text/plain": [
       "LabelBinarizer(neg_label=0, pos_label=1, sparse_output=False)"
      ]
     },
     "execution_count": 269,
     "metadata": {},
     "output_type": "execute_result"
    }
   ],
   "source": [
    "from sklearn.preprocessing import LabelBinarizer\n",
    "\n",
    "lb = LabelBinarizer()\n",
    "lb.fit(y_train)"
   ]
  },
  {
   "cell_type": "code",
   "execution_count": 270,
   "metadata": {},
   "outputs": [
    {
     "data": {
      "text/plain": [
       "(array([[0, 0, 0, ..., 0, 0, 0],\n",
       "        [1, 0, 0, ..., 0, 0, 0],\n",
       "        [0, 0, 0, ..., 0, 0, 0],\n",
       "        ...,\n",
       "        [1, 0, 0, ..., 0, 0, 0],\n",
       "        [0, 0, 0, ..., 0, 0, 0],\n",
       "        [1, 0, 0, ..., 0, 0, 0]]), (3347, 73))"
      ]
     },
     "execution_count": 270,
     "metadata": {},
     "output_type": "execute_result"
    }
   ],
   "source": [
    "y_train_vector = lb.transform(y_train)\n",
    "y_test_vector = lb.transform(y_test)\n",
    "y_train_vector[::300], y_test_vector.shape"
   ]
  },
  {
   "cell_type": "code",
   "execution_count": 271,
   "metadata": {},
   "outputs": [],
   "source": [
    "from sklearn.model_selection import train_test_split\n",
    "\n",
    "train_X, val_x, train_y, val_y = train_test_split(data_train_X, y_train_vector, test_size=0.2, random_state=65)\n",
    "\n",
    "data_test_y = y_test_vector"
   ]
  },
  {
   "cell_type": "markdown",
   "metadata": {},
   "source": [
    "# Build word vector matrix"
   ]
  },
  {
   "cell_type": "code",
   "execution_count": 202,
   "metadata": {},
   "outputs": [],
   "source": [
    "# Use Google News 300 dimension word vector\n",
    "from gensim.models import KeyedVectors\n",
    "filename = '~/gensim-data/GoogleNews-300/GoogleNews-vectors-negative300.bin'\n",
    "embedding_wv_model = KeyedVectors.load_word2vec_format(filename, binary=True)"
   ]
  },
  {
   "cell_type": "code",
   "execution_count": 272,
   "metadata": {},
   "outputs": [],
   "source": [
    "EMBEDDING_DIM = embedding_wv_model.vector_size\n",
    "embedding_matrix = np.zeros((len(word_index)+1, EMBEDDING_DIM))\n",
    "\n",
    "for word, i in word_index.items():\n",
    "    if word in embedding_wv_model.vocab:\n",
    "        embedding_matrix[i] = embedding_wv_model.get_vector(word)"
   ]
  },
  {
   "cell_type": "code",
   "execution_count": 273,
   "metadata": {},
   "outputs": [
    {
     "data": {
      "text/plain": [
       "array([-7.95898438e-02,  1.41601562e-01, -1.26953125e-01,  1.09863281e-01,\n",
       "       -1.92382812e-01,  6.07910156e-02,  1.47460938e-01,  7.95898438e-02,\n",
       "        1.07421875e-01, -1.05957031e-01, -2.07031250e-01, -3.22265625e-02,\n",
       "       -5.95703125e-02,  1.84570312e-01, -2.21679688e-01, -4.37011719e-02,\n",
       "       -1.46484375e-01,  3.76953125e-01, -1.25000000e-01,  1.26953125e-01,\n",
       "       -1.40625000e-01,  1.13769531e-01,  5.51757812e-02, -3.08837891e-02,\n",
       "        1.07910156e-01,  5.44433594e-02, -1.49414062e-01, -1.29882812e-01,\n",
       "       -3.14453125e-01,  8.15429688e-02,  2.63671875e-01, -3.73535156e-02,\n",
       "       -2.40234375e-01, -8.17871094e-03, -1.78710938e-01,  4.76074219e-02,\n",
       "        8.23974609e-03, -1.73339844e-02,  4.32128906e-02,  1.40625000e-01,\n",
       "        6.88476562e-02,  1.40625000e-01,  4.83398438e-02, -1.18164062e-01,\n",
       "       -1.31835938e-01, -1.67968750e-01,  1.54296875e-01, -3.93066406e-02,\n",
       "        2.01416016e-03,  1.93359375e-01,  2.25585938e-01, -9.47265625e-02,\n",
       "        6.78710938e-02, -4.21875000e-01, -3.20312500e-01,  1.63085938e-01,\n",
       "        4.80957031e-02, -1.22070312e-01,  3.71932983e-05,  3.93066406e-02,\n",
       "        3.92578125e-01,  5.49316406e-02,  1.38671875e-01,  1.61132812e-01,\n",
       "       -4.83398438e-02,  1.11816406e-01, -4.41894531e-02, -1.69921875e-01,\n",
       "       -8.05664062e-02,  2.05078125e-01, -6.25000000e-02,  1.18408203e-02,\n",
       "        1.69921875e-01,  9.03320312e-02,  1.99218750e-01, -1.16210938e-01,\n",
       "       -1.45507812e-01, -2.89306641e-02, -7.81250000e-02,  1.82617188e-01,\n",
       "        3.55468750e-01, -8.64257812e-02, -8.39233398e-04,  2.50000000e-01,\n",
       "        1.90429688e-01,  2.72216797e-02, -1.41601562e-01,  2.59765625e-01,\n",
       "        1.67968750e-01,  2.71484375e-01,  3.17382812e-02,  2.92968750e-02,\n",
       "        6.10351562e-02,  6.12792969e-02,  4.37011719e-02, -1.17675781e-01,\n",
       "        7.71484375e-02,  5.61523438e-02, -1.04370117e-02, -8.44726562e-02,\n",
       "        2.08007812e-01, -2.07031250e-01, -2.32421875e-01,  2.12402344e-02,\n",
       "        2.45117188e-01, -2.25585938e-01, -4.66308594e-02, -1.46484375e-01,\n",
       "       -1.26953125e-01,  1.48437500e-01, -3.22265625e-02,  2.81250000e-01,\n",
       "       -1.39648438e-01, -2.06054688e-01,  3.18359375e-01,  2.12890625e-01,\n",
       "        1.37695312e-01,  3.57421875e-01,  2.30468750e-01, -2.98828125e-01,\n",
       "        2.26562500e-01, -6.07910156e-02, -2.89062500e-01, -3.29589844e-02,\n",
       "       -3.63281250e-01, -2.39257812e-01, -9.96093750e-02, -1.53320312e-01,\n",
       "        1.52343750e-01, -4.02832031e-03,  2.50000000e-01,  1.64062500e-01,\n",
       "        4.07714844e-02,  1.62109375e-01, -2.69775391e-02,  2.89062500e-01,\n",
       "        4.56542969e-02, -2.66113281e-02, -3.16406250e-01, -2.45666504e-03,\n",
       "        2.08007812e-01, -6.78710938e-02, -2.13867188e-01,  1.27929688e-01,\n",
       "        1.28906250e-01, -1.11328125e-01, -9.03320312e-02, -1.53320312e-01,\n",
       "       -1.31835938e-01, -1.16210938e-01,  1.71875000e-01, -8.54492188e-02,\n",
       "       -1.01074219e-01, -2.88085938e-02, -1.45507812e-01,  6.54296875e-02,\n",
       "        8.39843750e-02, -1.17187500e-01, -2.44140625e-01,  2.13867188e-01,\n",
       "        2.18750000e-01, -1.39770508e-02, -1.65039062e-01, -1.55273438e-01,\n",
       "       -1.54296875e-01, -1.56250000e-01, -9.96093750e-02, -2.77343750e-01,\n",
       "       -9.81445312e-02,  2.07519531e-02, -6.83593750e-02, -7.47070312e-02,\n",
       "        1.37695312e-01, -2.13867188e-01,  2.71484375e-01, -3.85742188e-02,\n",
       "        2.25585938e-01, -6.88476562e-02, -1.09375000e-01, -3.51562500e-01,\n",
       "       -2.55859375e-01, -1.00585938e-01, -1.22070312e-01, -8.88671875e-02,\n",
       "        1.48315430e-02, -3.04687500e-01,  1.60156250e-01, -8.59375000e-02,\n",
       "        1.04003906e-01, -1.78710938e-01, -4.31640625e-01, -3.97949219e-02,\n",
       "       -3.04687500e-01, -4.66308594e-02, -5.20019531e-02, -7.17773438e-02,\n",
       "        2.04101562e-01,  6.93359375e-02, -4.32128906e-02, -1.76757812e-01,\n",
       "       -2.24304199e-03,  3.36914062e-02,  2.05078125e-02,  1.74804688e-01,\n",
       "       -2.59765625e-01, -1.80664062e-01,  2.77343750e-01,  4.63867188e-02,\n",
       "        3.45703125e-01, -1.62109375e-01,  1.26953125e-01, -8.25195312e-02,\n",
       "        1.61132812e-01,  3.14453125e-01,  1.01074219e-01,  4.10156250e-01,\n",
       "        1.80664062e-01, -1.87500000e-01,  1.67968750e-01, -2.58789062e-02,\n",
       "        1.47460938e-01,  2.89062500e-01, -9.91210938e-02,  1.97265625e-01,\n",
       "       -1.74560547e-02,  2.05078125e-01, -1.33666992e-02, -2.59765625e-01,\n",
       "       -1.59179688e-01, -1.65039062e-01,  3.73046875e-01,  3.34472656e-02,\n",
       "        1.48437500e-01,  1.36718750e-01,  5.58593750e-01,  2.28515625e-01,\n",
       "        8.44726562e-02, -7.08007812e-02,  1.63085938e-01,  1.53320312e-01,\n",
       "       -2.41210938e-01, -4.68750000e-02, -1.06933594e-01, -7.99560547e-03,\n",
       "        1.92382812e-01,  4.54711914e-03,  1.43554688e-01,  2.55126953e-02,\n",
       "       -1.03515625e-01, -2.01171875e-01,  2.35351562e-01, -3.36914062e-02,\n",
       "       -4.27246094e-02,  2.42187500e-01,  8.98437500e-02,  1.32812500e-01,\n",
       "        1.55273438e-01,  8.49609375e-02, -3.67187500e-01,  3.14941406e-02,\n",
       "        2.47070312e-01, -2.91015625e-01,  5.61523438e-02, -2.83203125e-02,\n",
       "       -7.47680664e-03, -5.52368164e-03, -6.49414062e-02, -3.19824219e-02,\n",
       "       -1.80664062e-01,  1.52343750e-01, -9.86328125e-02,  1.27929688e-01,\n",
       "        3.04687500e-01, -2.50000000e-01,  1.45507812e-01,  2.73437500e-01,\n",
       "       -2.00195312e-01, -1.50390625e-01, -3.65234375e-01, -1.42578125e-01,\n",
       "       -5.68847656e-02,  1.55273438e-01,  5.10253906e-02, -5.15136719e-02,\n",
       "       -1.54296875e-01,  7.81250000e-02,  4.54101562e-02,  2.24609375e-01,\n",
       "       -7.27539062e-02, -2.10937500e-01,  3.12500000e-01,  2.59765625e-01,\n",
       "       -2.65625000e-01,  1.95312500e-01,  1.84326172e-02,  1.08886719e-01,\n",
       "        1.79687500e-01, -2.33398438e-01, -1.79443359e-02, -1.53320312e-01])"
      ]
     },
     "execution_count": 273,
     "metadata": {},
     "output_type": "execute_result"
    }
   ],
   "source": [
    "embedding_matrix[200]"
   ]
  },
  {
   "cell_type": "markdown",
   "metadata": {},
   "source": [
    "# Training NN model part\n",
    "\n",
    "If there is a saved model, you can jump to [load model](#Load-model)"
   ]
  },
  {
   "cell_type": "code",
   "execution_count": 206,
   "metadata": {},
   "outputs": [],
   "source": [
    "import keras\n",
    "import keras.layers as L\n",
    "from keras.models import Model"
   ]
  },
  {
   "cell_type": "code",
   "execution_count": 276,
   "metadata": {},
   "outputs": [],
   "source": [
    "input_layer = L.Input(shape=(MAX_SEQUENCE_LENGTH,), dtype='int32')\n",
    "l_emd = L.Embedding(input_dim=len(word_index)+1, \n",
    "                    output_dim=EMBEDDING_DIM, \n",
    "                    weights=[embedding_matrix], \n",
    "                    input_length=MAX_SEQUENCE_LENGTH, \n",
    "                    trainable=False)(input_layer)\n",
    "l_conv1 = L.Conv1D(64, 2, activation='relu')(l_emd)\n",
    "l_maxpool1 = L.GlobalMaxPool1D()(l_conv1)\n",
    "\n",
    "l_conv2 = L.Conv1D(64, 3, activation='relu')(l_emd)\n",
    "l_maxpool2 = L.GlobalMaxPool1D()(l_conv2)\n",
    "\n",
    "l_conv3 = L.Conv1D(64, 5, activation='relu')(l_emd)\n",
    "l_maxpool3 = L.GlobalMaxPool1D()(l_conv3)\n",
    "\n",
    "l_combined = L.Concatenate()([l_maxpool1, l_maxpool2, l_maxpool3])\n",
    "\n",
    "l_dense = L.Dense(128, activation='relu')(l_combined)\n",
    "output = L.Dense(y_train_vector.shape[1], activation='softmax')(l_dense)\n",
    "\n",
    "model = Model(input_layer, output)\n",
    "\n",
    "#model.add(L.Conv1D(128, kernel_size = 3, activation='relu'))\n",
    "#model.add(L.MaxPooling1D())\n",
    "#model.add(L.Dense(64, activation='relu'))\n",
    "#model.add(layers.Dense(46, activation='softmax'))\n",
    "#model.add(L.Dense(y_train_vector.shape[1], activation='sigmoid'))"
   ]
  },
  {
   "cell_type": "code",
   "execution_count": 277,
   "metadata": {},
   "outputs": [
    {
     "data": {
      "text/plain": [
       "TensorShape([Dimension(None), Dimension(746), Dimension(64)])"
      ]
     },
     "execution_count": 277,
     "metadata": {},
     "output_type": "execute_result"
    }
   ],
   "source": [
    "l_conv3.shape"
   ]
  },
  {
   "cell_type": "code",
   "execution_count": 278,
   "metadata": {},
   "outputs": [],
   "source": [
    "model.compile(optimizer='rmsprop', loss='categorical_crossentropy', metrics=['accuracy'])"
   ]
  },
  {
   "cell_type": "code",
   "execution_count": 279,
   "metadata": {},
   "outputs": [
    {
     "name": "stdout",
     "output_type": "stream",
     "text": [
      "Train on 5848 samples, validate on 1462 samples\n",
      "Epoch 1/15\n",
      "5848/5848 [==============================] - 104s 18ms/step - loss: 2.0159 - acc: 0.5378 - val_loss: 1.3852 - val_acc: 0.6902\n",
      "Epoch 2/15\n",
      "5848/5848 [==============================] - 101s 17ms/step - loss: 1.1928 - acc: 0.7283 - val_loss: 1.0350 - val_acc: 0.7435\n",
      "Epoch 3/15\n",
      "5848/5848 [==============================] - 103s 18ms/step - loss: 0.8837 - acc: 0.7876 - val_loss: 0.9026 - val_acc: 0.7914\n",
      "Epoch 4/15\n",
      "5848/5848 [==============================] - 103s 18ms/step - loss: 0.6749 - acc: 0.8435 - val_loss: 0.6945 - val_acc: 0.8420\n",
      "Epoch 5/15\n",
      "5848/5848 [==============================] - 104s 18ms/step - loss: 0.5380 - acc: 0.8782 - val_loss: 0.6015 - val_acc: 0.8543\n",
      "Epoch 6/15\n",
      "5848/5848 [==============================] - 103s 18ms/step - loss: 0.4227 - acc: 0.9005 - val_loss: 0.5425 - val_acc: 0.8762\n",
      "Epoch 7/15\n",
      "5848/5848 [==============================] - 101s 17ms/step - loss: 0.3350 - acc: 0.9251 - val_loss: 0.5257 - val_acc: 0.8694\n",
      "Epoch 8/15\n",
      "5848/5848 [==============================] - 111s 19ms/step - loss: 0.2833 - acc: 0.9355 - val_loss: 0.4699 - val_acc: 0.8789\n",
      "Epoch 9/15\n",
      "5848/5848 [==============================] - 101s 17ms/step - loss: 0.2320 - acc: 0.9487 - val_loss: 0.4373 - val_acc: 0.8844\n",
      "Epoch 10/15\n",
      "5848/5848 [==============================] - 104s 18ms/step - loss: 0.1744 - acc: 0.9684 - val_loss: 0.4132 - val_acc: 0.8953\n",
      "Epoch 11/15\n",
      "5848/5848 [==============================] - 105s 18ms/step - loss: 0.1550 - acc: 0.9665 - val_loss: 0.4100 - val_acc: 0.8967\n",
      "Epoch 12/15\n",
      "5848/5848 [==============================] - 100s 17ms/step - loss: 0.1092 - acc: 0.9814 - val_loss: 0.4282 - val_acc: 0.8844\n",
      "Epoch 13/15\n",
      "5848/5848 [==============================] - 104s 18ms/step - loss: 0.1057 - acc: 0.9779 - val_loss: 0.3925 - val_acc: 0.9036\n",
      "Epoch 14/15\n",
      "5848/5848 [==============================] - 105s 18ms/step - loss: 0.0638 - acc: 0.9926 - val_loss: 0.3880 - val_acc: 0.9029\n",
      "Epoch 15/15\n",
      "5848/5848 [==============================] - 105s 18ms/step - loss: 0.0651 - acc: 0.9868 - val_loss: 0.6794 - val_acc: 0.8290\n"
     ]
    }
   ],
   "source": [
    "batch_size = 256\n",
    "epochs = 15\n",
    "\n",
    "history = model.fit(train_X, \n",
    "          train_y,\n",
    "          batch_size=batch_size,\n",
    "          epochs=epochs,\n",
    "          validation_data=(val_x, val_y))"
   ]
  },
  {
   "cell_type": "code",
   "execution_count": 284,
   "metadata": {},
   "outputs": [],
   "source": [
    "model.save('model/model-nn-GoogleNews-cnn-{}-0.81.h5'.format(datetime.datetime.today()))"
   ]
  },
  {
   "cell_type": "markdown",
   "metadata": {},
   "source": [
    "# Plot loss for training dataset and validation dataset"
   ]
  },
  {
   "cell_type": "code",
   "execution_count": 281,
   "metadata": {},
   "outputs": [
    {
     "data": {
      "image/png": "[encoded data removed]",
      "text/plain": [
       "<Figure size 432x288 with 1 Axes>"
      ]
     },
     "metadata": {
      "needs_background": "light"
     },
     "output_type": "display_data"
    }
   ],
   "source": [
    "import matplotlib.pyplot as plt\n",
    "\n",
    "loss = history.history['loss']\n",
    "val_loss = history.history['val_loss']\n",
    "\n",
    "epochs = range(1, len(loss) + 1)\n",
    "\n",
    "plt.plot(epochs, loss, 'bo', label='Training loss')\n",
    "plt.plot(epochs, val_loss, 'b', label='Validation loss')\n",
    "plt.title('Training and validation loss')\n",
    "plt.xlabel('Epochs')\n",
    "plt.ylabel('Loss')\n",
    "plt.legend()\n",
    "plt.savefig('Google-News-300-loss.svg')\n",
    "plt.show()\n"
   ]
  },
  {
   "cell_type": "code",
   "execution_count": 282,
   "metadata": {},
   "outputs": [
    {
     "data": {
      "image/png": "[encoded data removed]",
      "text/plain": [
       "<Figure size 432x288 with 1 Axes>"
      ]
     },
     "metadata": {
      "needs_background": "light"
     },
     "output_type": "display_data"
    }
   ],
   "source": [
    "acc = history.history['acc']\n",
    "val_acc = history.history['val_acc']\n",
    "\n",
    "epochs = range(1, len(acc) + 1)\n",
    "\n",
    "plt.plot(epochs, acc, 'bo', label='Training accuracy')\n",
    "plt.plot(epochs, val_acc, 'b', label='Validation accuracy')\n",
    "plt.title('Training and validation accuracy')\n",
    "plt.xlabel('Epochs')\n",
    "plt.ylabel('Accuracy')\n",
    "plt.legend()\n",
    "plt.savefig('Google-News-300-acc.svg')\n",
    "plt.show()\n"
   ]
  },
  {
   "cell_type": "markdown",
   "metadata": {},
   "source": [
    "# Load model"
   ]
  },
  {
   "cell_type": "code",
   "execution_count": null,
   "metadata": {},
   "outputs": [],
   "source": [
    "from keras.models import load_model\n",
    "model = load_model('model/model-vocabulary-nn.h5')"
   ]
  },
  {
   "cell_type": "code",
   "execution_count": 283,
   "metadata": {},
   "outputs": [
    {
     "name": "stdout",
     "output_type": "stream",
     "text": [
      "3347/3347 [==============================] - 19s 6ms/step\n",
      "Test score: 0.7448312349023126\n",
      "Test accuracy: 0.8141619362224206\n"
     ]
    }
   ],
   "source": [
    "score, acc = model.evaluate(data_test_X, data_test_y, batch_size=batch_size)\n",
    "print('Test score:', score)\n",
    "print('Test accuracy:', acc)"
   ]
  },
  {
   "cell_type": "code",
   "execution_count": 192,
   "metadata": {},
   "outputs": [],
   "source": [
    "y_pred = model.predict(x=data_test_X)"
   ]
  },
  {
   "cell_type": "code",
   "execution_count": 193,
   "metadata": {},
   "outputs": [],
   "source": [
    "y_pred_label = np.zeros_like(y_pred)\n",
    "y_pred_label[np.arange(len(y_pred)), y_pred.argmax(1)] = 1"
   ]
  },
  {
   "cell_type": "code",
   "execution_count": 194,
   "metadata": {},
   "outputs": [
    {
     "data": {
      "text/plain": [
       "array([[0., 0., 0., ..., 0., 0., 0.],\n",
       "       [1., 0., 0., ..., 0., 0., 0.],\n",
       "       [0., 0., 0., ..., 0., 0., 0.],\n",
       "       ...,\n",
       "       [0., 0., 0., ..., 0., 0., 0.],\n",
       "       [0., 0., 0., ..., 0., 0., 0.],\n",
       "       [0., 0., 0., ..., 0., 0., 0.]], dtype=float32)"
      ]
     },
     "execution_count": 194,
     "metadata": {},
     "output_type": "execute_result"
    }
   ],
   "source": [
    "y_pred_label"
   ]
  },
  {
   "cell_type": "code",
   "execution_count": 195,
   "metadata": {},
   "outputs": [
    {
     "data": {
      "text/plain": [
       "(3347, 73)"
      ]
     },
     "execution_count": 195,
     "metadata": {},
     "output_type": "execute_result"
    }
   ],
   "source": [
    "y_pred_label.shape"
   ]
  },
  {
   "cell_type": "code",
   "execution_count": 196,
   "metadata": {},
   "outputs": [
    {
     "data": {
      "text/plain": [
       "0.6235434717657604"
      ]
     },
     "execution_count": 196,
     "metadata": {},
     "output_type": "execute_result"
    }
   ],
   "source": [
    "from sklearn.metrics import accuracy_score\n",
    "accuracy_score(y_pred_label, data_test_y)"
   ]
  },
  {
   "cell_type": "code",
   "execution_count": null,
   "metadata": {},
   "outputs": [],
   "source": []
  }
 ],
 "metadata": {
  "kernelspec": {
   "display_name": "Python 3",
   "language": "python",
   "name": "python3"
  },
  "language_info": {
   "codemirror_mode": {
    "name": "ipython",
    "version": 3
   },
   "file_extension": ".py",
   "mimetype": "text/x-python",
   "name": "python",
   "nbconvert_exporter": "python",
   "pygments_lexer": "ipython3",
   "version": "3.6.7"
  }
 },
 "nbformat": 4,
 "nbformat_minor": 2
}
