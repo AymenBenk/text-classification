{
 "cells": [
  {
   "cell_type": "markdown",
   "metadata": {},
   "source": [
    "# Multilabel TextCNN\n",
    "\n",
    "1. x_train: \\[text1, text2, ...\\]\n",
    "   y_train: \\[[label11, label12, ...], [label21, ...], ...\\]\n",
    "\n",
    "2. Generate vocabulary set and get token_to_id map. This map will map a word to an index in vocabulary space. Transform text to \\[index1, index2, ..., \\]. \n",
    "\n",
    "   Padded sequences to fixed length (750, )\n",
    "    \n",
    "3. Word Vector - Google News 300\n",
    "\n",
    "4. TextCNN ([Figure Source](https://arxiv.org/pdf/1510.03820.pdf))\n",
    "\n",
    "![TextCNN](https://i.loli.net/2018/11/29/5bff0cfe20862.jpg)\n",
    "\n",
    "5. Using MultilabelBinarizer mapping \\[label1, label2, ...\\] to [1,1,0,0,...,] by one-hot.\n",
    "\n",
    "The accuracy is 0.82."
   ]
  },
  {
   "cell_type": "code",
   "execution_count": 3,
   "metadata": {},
   "outputs": [],
   "source": [
    "%load_ext autoreload"
   ]
  },
  {
   "cell_type": "code",
   "execution_count": 7,
   "metadata": {},
   "outputs": [],
   "source": [
    "%autoreload"
   ]
  },
  {
   "cell_type": "code",
   "execution_count": 5,
   "metadata": {},
   "outputs": [],
   "source": [
    "import os\n",
    "os.environ[\"KMP_DUPLICATE_LIB_OK\"]=\"TRUE\""
   ]
  },
  {
   "cell_type": "code",
   "execution_count": 8,
   "metadata": {},
   "outputs": [
    {
     "name": "stdout",
     "output_type": "stream",
     "text": [
      "========== Extract data from pickle files ==========\n"
     ]
    }
   ],
   "source": [
    "from src.data_preprocess.preprocess import DataProcessor\n",
    "data_preprocessor = DataProcessor()\n",
    "train_documents, test_documents = data_preprocessor.get_train_and_test_documents()"
   ]
  },
  {
   "cell_type": "code",
   "execution_count": 51,
   "metadata": {},
   "outputs": [
    {
     "data": {
      "text/plain": [
       "(7310, 7310, 3355, 3355)"
      ]
     },
     "execution_count": 51,
     "metadata": {},
     "output_type": "execute_result"
    }
   ],
   "source": [
    "from nltk.tokenize import word_tokenize\n",
    "x_train = []\n",
    "y_train = []\n",
    "x_test = []\n",
    "y_test = []\n",
    "bag_of_classes = set()\n",
    "\n",
    "for document in train_documents:\n",
    "    bag_of_classes = bag_of_classes.union(document.class_list)\n",
    "    tokens, tf = data_preprocessor.convert_text_to_word_list(document.text)\n",
    "    x_train.append(' '.join(tokens))\n",
    "    #x_train.append(document.text)\n",
    "    y_train.append(document.class_list)\n",
    "        \n",
    "for document in test_documents:\n",
    "    labels = [class_ for class_ in document.class_list if class_ in bag_of_classes]\n",
    "    tokens, tf = data_preprocessor.convert_text_to_word_list(document.text)\n",
    "    x_test.append(' '.join(tokens))\n",
    "    #x_test.append(document.text)\n",
    "    y_test.append(labels)\n",
    "\n",
    "len(x_train), len(y_train), len(x_test), len(y_test)"
   ]
  },
  {
   "cell_type": "code",
   "execution_count": 52,
   "metadata": {},
   "outputs": [
    {
     "data": {
      "text/plain": [
       "'summit petroleum corp sells shares abilene texas march summit petroleum corp sold shares common stock halbert associates company shares previously held consolidated energy corp harken hogi addition david halbert president chief executive officer halbert abilene investment firm named chairman chief executive summit company halbert charles bruce james burke named directors expanding board summit added company burke president chief executive allied comprehensive health abilene bruce partner washington firm butler binion summit intends actively seek acquisitions increase asset base reuter'"
      ]
     },
     "execution_count": 52,
     "metadata": {},
     "output_type": "execute_result"
    }
   ],
   "source": [
    "x_train[300]"
   ]
  },
  {
   "cell_type": "markdown",
   "metadata": {},
   "source": [
    "# Convert text to vector"
   ]
  },
  {
   "cell_type": "code",
   "execution_count": 53,
   "metadata": {},
   "outputs": [
    {
     "data": {
      "text/plain": [
       "23313"
      ]
     },
     "execution_count": 53,
     "metadata": {},
     "output_type": "execute_result"
    }
   ],
   "source": [
    "from keras.preprocessing.text import Tokenizer\n",
    "\n",
    "MAX_NUM_WORDS = 20000\n",
    "\n",
    "tokenizer = Tokenizer(num_words=MAX_NUM_WORDS, oov_token='UNK')\n",
    "tokenizer.fit_on_texts(x_train)\n",
    "sequences_train = tokenizer.texts_to_sequences(x_train)\n",
    "sequences_test = tokenizer.texts_to_sequences(x_test)\n",
    "\n",
    "len(tokenizer.word_index)"
   ]
  },
  {
   "cell_type": "code",
   "execution_count": 54,
   "metadata": {},
   "outputs": [
    {
     "data": {
      "text/plain": [
       "23313"
      ]
     },
     "execution_count": 54,
     "metadata": {},
     "output_type": "execute_result"
    }
   ],
   "source": [
    "word_index = tokenizer.word_index\n",
    "len(word_index)"
   ]
  },
  {
   "cell_type": "code",
   "execution_count": 56,
   "metadata": {},
   "outputs": [
    {
     "data": {
      "text/plain": [
       "((7310, 730), (3355, 730))"
      ]
     },
     "execution_count": 56,
     "metadata": {},
     "output_type": "execute_result"
    }
   ],
   "source": [
    "from keras.preprocessing.sequence import pad_sequences\n",
    "\n",
    "MAX_SEQUENCE_LENGTH = 730\n",
    "\n",
    "data_train_X = pad_sequences(sequences_train, maxlen=MAX_SEQUENCE_LENGTH, padding='post')\n",
    "data_test_X = pad_sequences(sequences_test, maxlen=MAX_SEQUENCE_LENGTH, padding='post')\n",
    "data_train_X.shape, data_test_X.shape"
   ]
  },
  {
   "cell_type": "code",
   "execution_count": 57,
   "metadata": {},
   "outputs": [
    {
     "data": {
      "text/plain": [
       "array([ 3332,   230,    12,   704,    17,  9426,   296,     3,  3332,\n",
       "         230,    12,   203,    17,    69,    18,  8083,  1136,    10,\n",
       "          17,   211,   234,   774,   200,    12, 14869, 14870,   576,\n",
       "        1097,  8083,   106,   396,   327,   711,  8083,  9426,    85,\n",
       "         195,  1029,   129,   396,   327,  3332,    10,  8083,  1972,\n",
       "        4110,   759,  9427,  1029,   488,  2016,    53,  3332,    67,\n",
       "          10,  9427,   106,   396,   327,   967,  2832,   776,  9426,\n",
       "        4110,  1470,    57,   195,  4111, 14871,  3332,  1085,  2209,\n",
       "         548,   658,    62,  1099,   312,     4,     0,     0,     0,\n",
       "           0,     0,     0,     0,     0,     0,     0,     0,     0,\n",
       "           0,     0,     0,     0,     0,     0,     0,     0,     0,\n",
       "           0,     0,     0,     0,     0,     0,     0,     0,     0,\n",
       "           0,     0,     0,     0,     0,     0,     0,     0,     0,\n",
       "           0,     0,     0,     0,     0,     0,     0,     0,     0,\n",
       "           0,     0,     0,     0,     0,     0,     0,     0,     0,\n",
       "           0,     0,     0,     0,     0,     0,     0,     0,     0,\n",
       "           0,     0,     0,     0,     0,     0,     0,     0,     0,\n",
       "           0,     0,     0,     0,     0,     0,     0,     0,     0,\n",
       "           0,     0,     0,     0,     0,     0,     0,     0,     0,\n",
       "           0,     0,     0,     0,     0,     0,     0,     0,     0,\n",
       "           0,     0,     0,     0,     0,     0,     0,     0,     0,\n",
       "           0,     0,     0,     0,     0,     0,     0,     0,     0,\n",
       "           0,     0,     0,     0,     0,     0,     0,     0,     0,\n",
       "           0,     0,     0,     0,     0,     0,     0,     0,     0,\n",
       "           0,     0,     0,     0,     0,     0,     0,     0,     0,\n",
       "           0,     0,     0,     0,     0,     0,     0,     0,     0,\n",
       "           0,     0,     0,     0,     0,     0,     0,     0,     0,\n",
       "           0,     0,     0,     0,     0,     0,     0,     0,     0,\n",
       "           0,     0,     0,     0,     0,     0,     0,     0,     0,\n",
       "           0,     0,     0,     0,     0,     0,     0,     0,     0,\n",
       "           0,     0,     0,     0,     0,     0,     0,     0,     0,\n",
       "           0,     0,     0,     0,     0,     0,     0,     0,     0,\n",
       "           0,     0,     0,     0,     0,     0,     0,     0,     0,\n",
       "           0,     0,     0,     0,     0,     0,     0,     0,     0,\n",
       "           0,     0,     0,     0,     0,     0,     0,     0,     0,\n",
       "           0,     0,     0,     0,     0,     0,     0,     0,     0,\n",
       "           0,     0,     0,     0,     0,     0,     0,     0,     0,\n",
       "           0,     0,     0,     0,     0,     0,     0,     0,     0,\n",
       "           0,     0,     0,     0,     0,     0,     0,     0,     0,\n",
       "           0,     0,     0,     0,     0,     0,     0,     0,     0,\n",
       "           0,     0,     0,     0,     0,     0,     0,     0,     0,\n",
       "           0,     0,     0,     0,     0,     0,     0,     0,     0,\n",
       "           0,     0,     0,     0,     0,     0,     0,     0,     0,\n",
       "           0,     0,     0,     0,     0,     0,     0,     0,     0,\n",
       "           0,     0,     0,     0,     0,     0,     0,     0,     0,\n",
       "           0,     0,     0,     0,     0,     0,     0,     0,     0,\n",
       "           0,     0,     0,     0,     0,     0,     0,     0,     0,\n",
       "           0,     0,     0,     0,     0,     0,     0,     0,     0,\n",
       "           0,     0,     0,     0,     0,     0,     0,     0,     0,\n",
       "           0,     0,     0,     0,     0,     0,     0,     0,     0,\n",
       "           0,     0,     0,     0,     0,     0,     0,     0,     0,\n",
       "           0,     0,     0,     0,     0,     0,     0,     0,     0,\n",
       "           0,     0,     0,     0,     0,     0,     0,     0,     0,\n",
       "           0,     0,     0,     0,     0,     0,     0,     0,     0,\n",
       "           0,     0,     0,     0,     0,     0,     0,     0,     0,\n",
       "           0,     0,     0,     0,     0,     0,     0,     0,     0,\n",
       "           0,     0,     0,     0,     0,     0,     0,     0,     0,\n",
       "           0,     0,     0,     0,     0,     0,     0,     0,     0,\n",
       "           0,     0,     0,     0,     0,     0,     0,     0,     0,\n",
       "           0,     0,     0,     0,     0,     0,     0,     0,     0,\n",
       "           0,     0,     0,     0,     0,     0,     0,     0,     0,\n",
       "           0,     0,     0,     0,     0,     0,     0,     0,     0,\n",
       "           0,     0,     0,     0,     0,     0,     0,     0,     0,\n",
       "           0,     0,     0,     0,     0,     0,     0,     0,     0,\n",
       "           0,     0,     0,     0,     0,     0,     0,     0,     0,\n",
       "           0,     0,     0,     0,     0,     0,     0,     0,     0,\n",
       "           0,     0,     0,     0,     0,     0,     0,     0,     0,\n",
       "           0,     0,     0,     0,     0,     0,     0,     0,     0,\n",
       "           0,     0,     0,     0,     0,     0,     0,     0,     0,\n",
       "           0,     0,     0,     0,     0,     0,     0,     0,     0,\n",
       "           0,     0,     0,     0,     0,     0,     0,     0,     0,\n",
       "           0,     0,     0,     0,     0,     0,     0,     0,     0,\n",
       "           0,     0,     0,     0,     0,     0,     0,     0,     0,\n",
       "           0,     0,     0,     0,     0,     0,     0,     0,     0,\n",
       "           0,     0,     0,     0,     0,     0,     0,     0,     0,\n",
       "           0,     0,     0,     0,     0,     0,     0,     0,     0,\n",
       "           0,     0,     0,     0,     0,     0,     0,     0,     0,\n",
       "           0,     0,     0,     0,     0,     0,     0,     0,     0,\n",
       "           0,     0,     0,     0,     0,     0,     0,     0,     0,\n",
       "           0,     0,     0,     0,     0,     0,     0,     0,     0,\n",
       "           0,     0,     0,     0,     0,     0,     0,     0,     0,\n",
       "           0], dtype=int32)"
      ]
     },
     "execution_count": 57,
     "metadata": {},
     "output_type": "execute_result"
    }
   ],
   "source": [
    "data_train_X[300]"
   ]
  },
  {
   "cell_type": "code",
   "execution_count": 58,
   "metadata": {},
   "outputs": [
    {
     "data": {
      "text/plain": [
       "MultiLabelBinarizer(classes=None, sparse_output=False)"
      ]
     },
     "execution_count": 58,
     "metadata": {},
     "output_type": "execute_result"
    }
   ],
   "source": [
    "from sklearn.preprocessing import MultiLabelBinarizer\n",
    "\n",
    "lb = MultiLabelBinarizer()\n",
    "lb.fit(y_train)"
   ]
  },
  {
   "cell_type": "code",
   "execution_count": 59,
   "metadata": {},
   "outputs": [
    {
     "data": {
      "text/plain": [
       "(array([[0, 0, 0, ..., 0, 0, 0],\n",
       "        [1, 0, 0, ..., 0, 0, 0],\n",
       "        [0, 0, 0, ..., 0, 0, 0],\n",
       "        ...,\n",
       "        [1, 0, 0, ..., 0, 0, 0],\n",
       "        [0, 0, 0, ..., 0, 0, 0],\n",
       "        [1, 0, 0, ..., 0, 0, 0]]), (3355, 88))"
      ]
     },
     "execution_count": 59,
     "metadata": {},
     "output_type": "execute_result"
    }
   ],
   "source": [
    "y_train_vector = lb.transform(y_train)\n",
    "y_test_vector = lb.transform(y_test)\n",
    "y_train_vector[::300], y_test_vector.shape"
   ]
  },
  {
   "cell_type": "code",
   "execution_count": 66,
   "metadata": {},
   "outputs": [
    {
     "name": "stdout",
     "output_type": "stream",
     "text": [
      "[0 0 0 0 0 0 0 0 0 0 0 0 0 0 0 0 0 0 0 0 0 0 0 0 0 0 0 1 1 0 0 0 0 0 0 0 0\n",
      " 0 0 0 0 0 0 0 0 0 0 0 0 0 0 0 0 0 0 0 0 0 0 0 0 0 0 0 0 0 0 0 0 0 0 0 0 0\n",
      " 0 0 0 0 0 0 0 0 0 0 0 0 0 0]\n"
     ]
    }
   ],
   "source": [
    "for vector in y_test_vector:\n",
    "    if sum(vector) > 1:\n",
    "        print(vector)\n",
    "        break"
   ]
  },
  {
   "cell_type": "code",
   "execution_count": 68,
   "metadata": {},
   "outputs": [],
   "source": [
    "from sklearn.model_selection import train_test_split\n",
    "\n",
    "train_X, val_x, train_y, val_y = train_test_split(data_train_X, y_train_vector, test_size=1000, random_state=65)\n",
    "\n",
    "data_test_y = y_test_vector"
   ]
  },
  {
   "cell_type": "markdown",
   "metadata": {},
   "source": [
    "# Build word vector matrix"
   ]
  },
  {
   "cell_type": "code",
   "execution_count": 27,
   "metadata": {},
   "outputs": [],
   "source": [
    "# Use Google News 300 dimension word vector\n",
    "from gensim.models import KeyedVectors\n",
    "filename = '~/gensim-data/GoogleNews-300/GoogleNews-vectors-negative300.bin'\n",
    "embedding_wv_model = KeyedVectors.load_word2vec_format(filename, binary=True)"
   ]
  },
  {
   "cell_type": "code",
   "execution_count": 69,
   "metadata": {},
   "outputs": [],
   "source": [
    "import numpy as np\n",
    "EMBEDDING_DIM = embedding_wv_model.vector_size\n",
    "embedding_matrix = np.zeros((len(word_index) + 1, EMBEDDING_DIM))\n",
    "\n",
    "for word, i in word_index.items():\n",
    "    if word in embedding_wv_model.vocab:\n",
    "        embedding_matrix[i] = embedding_wv_model.get_vector(word)"
   ]
  },
  {
   "cell_type": "code",
   "execution_count": 70,
   "metadata": {},
   "outputs": [
    {
     "data": {
      "text/plain": [
       "array([-0.10351562,  0.16113281,  0.1171875 , -0.25390625,  0.00891113,\n",
       "        0.00823975,  0.10302734, -0.40039062,  0.09423828,  0.03063965,\n",
       "        0.0390625 ,  0.07958984, -0.03955078, -0.06494141, -0.13085938,\n",
       "        0.00976562, -0.08544922,  0.14160156,  0.17285156,  0.07910156,\n",
       "        0.03344727, -0.08935547, -0.01263428,  0.3046875 , -0.12060547,\n",
       "        0.2890625 , -0.12890625, -0.00561523,  0.01452637, -0.11181641,\n",
       "       -0.08398438, -0.02954102, -0.09472656,  0.10107422,  0.05859375,\n",
       "       -0.06225586,  0.05810547,  0.05224609,  0.07177734,  0.375     ,\n",
       "       -0.06030273, -0.14648438,  0.21484375,  0.05810547, -0.12890625,\n",
       "       -0.00793457, -0.14355469, -0.09521484, -0.1640625 ,  0.17675781,\n",
       "        0.09814453,  0.15625   , -0.01953125,  0.16601562,  0.06835938,\n",
       "       -0.08447266, -0.08056641, -0.26171875,  0.10107422, -0.13085938,\n",
       "       -0.04174805, -0.15722656, -0.19433594,  0.125     , -0.0043335 ,\n",
       "       -0.07373047, -0.13769531,  0.16503906, -0.19921875,  0.05102539,\n",
       "       -0.06738281, -0.24511719,  0.17773438, -0.21191406, -0.10253906,\n",
       "       -0.19433594,  0.22070312,  0.47460938, -0.203125  , -0.15429688,\n",
       "        0.203125  ,  0.06542969, -0.14160156,  0.0222168 ,  0.19726562,\n",
       "        0.07226562, -0.03735352,  0.20214844, -0.06787109, -0.04272461,\n",
       "        0.0016098 ,  0.05712891, -0.04418945, -0.05566406, -0.22753906,\n",
       "       -0.19824219, -0.11816406,  0.15234375, -0.01867676, -0.17382812,\n",
       "        0.07861328, -0.21777344,  0.13183594, -0.01098633,  0.08447266,\n",
       "       -0.10546875, -0.23535156, -0.06542969, -0.09130859, -0.06298828,\n",
       "       -0.15234375,  0.09277344, -0.09326172,  0.27929688, -0.0189209 ,\n",
       "        0.30273438,  0.1875    , -0.06884766,  0.10644531, -0.16113281,\n",
       "       -0.30664062, -0.22851562, -0.08007812, -0.16210938, -0.265625  ,\n",
       "       -0.1796875 ,  0.06738281, -0.13574219, -0.20800781, -0.02600098,\n",
       "       -0.11914062, -0.11914062, -0.02246094,  0.09667969,  0.05493164,\n",
       "        0.26757812,  0.06835938, -0.10205078, -0.1640625 ,  0.10205078,\n",
       "        0.05810547, -0.19824219, -0.28320312,  0.109375  ,  0.03662109,\n",
       "        0.08886719,  0.14746094,  0.19628906, -0.03417969, -0.03662109,\n",
       "       -0.01318359, -0.08740234,  0.07177734,  0.09765625,  0.15917969,\n",
       "        0.07177734,  0.38671875, -0.14453125, -0.01696777, -0.3984375 ,\n",
       "       -0.15820312,  0.27539062,  0.02734375,  0.31835938,  0.125     ,\n",
       "        0.25      , -0.2734375 ,  0.203125  ,  0.20605469, -0.02148438,\n",
       "       -0.24023438,  0.09765625,  0.07373047,  0.07519531, -0.12792969,\n",
       "       -0.24511719,  0.15820312, -0.12255859, -0.18261719, -0.15820312,\n",
       "       -0.265625  , -0.15917969, -0.19726562,  0.11621094,  0.10546875,\n",
       "        0.05395508, -0.20605469,  0.10302734,  0.11376953,  0.00265503,\n",
       "       -0.265625  ,  0.0559082 ,  0.06347656, -0.03540039, -0.11474609,\n",
       "        0.12109375, -0.15332031, -0.10009766, -0.04589844, -0.22460938,\n",
       "       -0.04882812,  0.15039062,  0.0625    , -0.07080078, -0.04443359,\n",
       "       -0.06542969,  0.07958984, -0.2265625 , -0.04077148,  0.02124023,\n",
       "       -0.44726562, -0.07226562,  0.08740234, -0.05419922,  0.01037598,\n",
       "        0.03662109, -0.01586914,  0.10546875, -0.33203125, -0.03027344,\n",
       "        0.09423828, -0.17382812, -0.04443359, -0.02331543, -0.17089844,\n",
       "        0.08691406,  0.06347656,  0.01092529,  0.22167969,  0.15820312,\n",
       "       -0.12792969,  0.31054688, -0.02392578, -0.0456543 , -0.12109375,\n",
       "        0.06542969, -0.11865234, -0.06030273,  0.14160156, -0.07275391,\n",
       "       -0.03295898,  0.42382812,  0.09228516,  0.03564453,  0.29882812,\n",
       "       -0.01611328,  0.2109375 , -0.11962891, -0.1328125 ,  0.03637695,\n",
       "       -0.17871094, -0.01623535,  0.13183594,  0.17773438,  0.03686523,\n",
       "        0.02905273,  0.2890625 , -0.02648926, -0.11132812,  0.02099609,\n",
       "       -0.0255127 , -0.0703125 , -0.17285156, -0.17871094, -0.01043701,\n",
       "        0.15917969, -0.140625  , -0.10839844, -0.00570679,  0.02001953,\n",
       "       -0.14941406, -0.08642578,  0.14355469, -0.08056641, -0.1484375 ,\n",
       "       -0.08007812, -0.4140625 , -0.18457031, -0.00970459, -0.046875  ,\n",
       "       -0.09326172,  0.03222656,  0.04052734, -0.01574707, -0.14746094,\n",
       "        0.02209473,  0.03955078,  0.00157166,  0.12109375,  0.13378906,\n",
       "       -0.23730469, -0.1328125 , -0.01519775, -0.09326172, -0.07910156,\n",
       "       -0.06542969,  0.18652344,  0.04589844,  0.15332031,  0.24023438])"
      ]
     },
     "execution_count": 70,
     "metadata": {},
     "output_type": "execute_result"
    }
   ],
   "source": [
    "embedding_matrix[200]"
   ]
  },
  {
   "cell_type": "markdown",
   "metadata": {},
   "source": [
    "# Training NN model part\n",
    "\n",
    "If there is a saved model, you can jump to [load model](#Load-model)"
   ]
  },
  {
   "cell_type": "code",
   "execution_count": 32,
   "metadata": {},
   "outputs": [],
   "source": [
    "import keras\n",
    "import keras.layers as L\n",
    "from keras.models import Model"
   ]
  },
  {
   "cell_type": "code",
   "execution_count": 71,
   "metadata": {},
   "outputs": [],
   "source": [
    "input_layer = L.Input(shape=(MAX_SEQUENCE_LENGTH,), dtype='int32')\n",
    "l_emd = L.Embedding(input_dim=len(word_index)+1, \n",
    "                    output_dim=EMBEDDING_DIM, \n",
    "                    weights=[embedding_matrix], \n",
    "                    input_length=MAX_SEQUENCE_LENGTH, \n",
    "                    trainable=False)(input_layer)\n",
    "l_conv1 = L.Conv1D(256, 3, padding='same', strides=1, activation='relu')(l_emd)\n",
    "l_maxpool1 = L.MaxPool1D(4)(l_conv1)\n",
    "\n",
    "l_conv2 = L.Conv1D(256, 4, padding='same', strides=1, activation='relu')(l_emd)\n",
    "l_maxpool2 = L.MaxPool1D(4)(l_conv2)\n",
    "\n",
    "l_conv3 = L.Conv1D(256, 5, padding='same', strides=1, activation='relu')(l_emd)\n",
    "l_maxpool3 = L.MaxPool1D(4)(l_conv2)\n",
    "\n",
    "l_combined = L.Concatenate()([l_maxpool1, l_maxpool2, l_maxpool3])\n",
    "flat = L.Flatten()(l_combined)\n",
    "drop = L.Dropout(0.2)(flat)\n",
    "\n",
    "output = L.Dense(y_train_vector.shape[1], activation='softmax')(drop)\n",
    "\n",
    "model = Model(input_layer, output)\n",
    "\n",
    "#model.add(L.Conv1D(128, kernel_size = 3, activation='relu'))\n",
    "#model.add(L.MaxPooling1D())\n",
    "#model.add(L.Dense(64, activation='relu'))\n",
    "#model.add(layers.Dense(46, activation='softmax'))\n",
    "#model.add(L.Dense(y_train_vector.shape[1], activation='sigmoid'))"
   ]
  },
  {
   "cell_type": "code",
   "execution_count": 72,
   "metadata": {},
   "outputs": [
    {
     "data": {
      "text/plain": [
       "TensorShape([Dimension(None), Dimension(730), Dimension(256)])"
      ]
     },
     "execution_count": 72,
     "metadata": {},
     "output_type": "execute_result"
    }
   ],
   "source": [
    "l_conv3.shape"
   ]
  },
  {
   "cell_type": "code",
   "execution_count": 73,
   "metadata": {},
   "outputs": [],
   "source": [
    "model.compile(optimizer='adam', loss='categorical_crossentropy', metrics=['accuracy'])"
   ]
  },
  {
   "cell_type": "code",
   "execution_count": 74,
   "metadata": {},
   "outputs": [
    {
     "name": "stdout",
     "output_type": "stream",
     "text": [
      "Train on 6310 samples, validate on 1000 samples\n",
      "Epoch 1/15\n",
      "6310/6310 [==============================] - 140s 22ms/step - loss: 3.0245 - acc: 0.4745 - val_loss: 2.1469 - val_acc: 0.6120\n",
      "Epoch 2/15\n",
      "6310/6310 [==============================] - 140s 22ms/step - loss: 1.6330 - acc: 0.7151 - val_loss: 1.5717 - val_acc: 0.7640\n",
      "Epoch 3/15\n",
      "6310/6310 [==============================] - 140s 22ms/step - loss: 1.0570 - acc: 0.8317 - val_loss: 1.3914 - val_acc: 0.8300\n",
      "Epoch 4/15\n",
      "6310/6310 [==============================] - 141s 22ms/step - loss: 0.8645 - acc: 0.8895 - val_loss: 1.2674 - val_acc: 0.8450\n",
      "Epoch 5/15\n",
      "6310/6310 [==============================] - 143s 23ms/step - loss: 0.7522 - acc: 0.9101 - val_loss: 1.2498 - val_acc: 0.8460\n",
      "Epoch 6/15\n",
      "6310/6310 [==============================] - 140s 22ms/step - loss: 0.7060 - acc: 0.9162 - val_loss: 1.1858 - val_acc: 0.8610\n",
      "Epoch 7/15\n",
      "6310/6310 [==============================] - 141s 22ms/step - loss: 0.6508 - acc: 0.9281 - val_loss: 1.1976 - val_acc: 0.8630\n",
      "Epoch 8/15\n",
      "6310/6310 [==============================] - 139s 22ms/step - loss: 0.6038 - acc: 0.9263 - val_loss: 1.1513 - val_acc: 0.8640\n",
      "Epoch 9/15\n",
      "6310/6310 [==============================] - 140s 22ms/step - loss: 0.6108 - acc: 0.9349 - val_loss: 1.1517 - val_acc: 0.8650\n",
      "Epoch 10/15\n",
      "6310/6310 [==============================] - 140s 22ms/step - loss: 0.5791 - acc: 0.9287 - val_loss: 1.1161 - val_acc: 0.8640\n",
      "Epoch 11/15\n",
      "6310/6310 [==============================] - 141s 22ms/step - loss: 0.5741 - acc: 0.9385 - val_loss: 1.0768 - val_acc: 0.8690\n",
      "Epoch 12/15\n",
      "6310/6310 [==============================] - 140s 22ms/step - loss: 0.5485 - acc: 0.9320 - val_loss: 1.1359 - val_acc: 0.8620\n",
      "Epoch 13/15\n",
      "6310/6310 [==============================] - 141s 22ms/step - loss: 0.5338 - acc: 0.9387 - val_loss: 1.0848 - val_acc: 0.8670\n",
      "Epoch 14/15\n",
      "6310/6310 [==============================] - 141s 22ms/step - loss: 0.5103 - acc: 0.9317 - val_loss: 1.1030 - val_acc: 0.8640\n",
      "Epoch 15/15\n",
      "6310/6310 [==============================] - 140s 22ms/step - loss: 0.4996 - acc: 0.9360 - val_loss: 1.0664 - val_acc: 0.8730\n"
     ]
    }
   ],
   "source": [
    "batch_size = 256\n",
    "epochs = 15\n",
    "\n",
    "history = model.fit(train_X, \n",
    "          train_y,\n",
    "          batch_size=batch_size,\n",
    "          epochs=epochs,\n",
    "          validation_data=(val_x, val_y))"
   ]
  },
  {
   "cell_type": "code",
   "execution_count": 284,
   "metadata": {},
   "outputs": [],
   "source": [
    "model.save('model/model-nn-GoogleNews-cnn-{}-0.81.h5'.format(datetime.datetime.today()))"
   ]
  },
  {
   "cell_type": "markdown",
   "metadata": {},
   "source": [
    "# Plot loss for training dataset and validation dataset"
   ]
  },
  {
   "cell_type": "code",
   "execution_count": 75,
   "metadata": {},
   "outputs": [
    {
     "data": {
      "image/png": "[encoded data removed]",
      "text/plain": [
       "<Figure size 432x288 with 1 Axes>"
      ]
     },
     "metadata": {
      "needs_background": "light"
     },
     "output_type": "display_data"
    }
   ],
   "source": [
    "import matplotlib.pyplot as plt\n",
    "import datetime\n",
    "\n",
    "loss = history.history['loss']\n",
    "val_loss = history.history['val_loss']\n",
    "\n",
    "epochs = range(1, len(loss) + 1)\n",
    "\n",
    "plt.plot(epochs, loss, 'bo', label='Training loss')\n",
    "plt.plot(epochs, val_loss, 'b', label='Validation loss')\n",
    "plt.title('Training and validation loss')\n",
    "plt.xlabel('Epochs')\n",
    "plt.ylabel('Loss')\n",
    "plt.legend()\n",
    "plt.savefig('running_result/Google-News-300-loss-multilabel-{}.svg'.format(datetime.datetime.today()))\n",
    "plt.show()\n"
   ]
  },
  {
   "cell_type": "code",
   "execution_count": 76,
   "metadata": {},
   "outputs": [
    {
     "data": {
      "image/png": "[encoded data removed]",
      "text/plain": [
       "<Figure size 432x288 with 1 Axes>"
      ]
     },
     "metadata": {
      "needs_background": "light"
     },
     "output_type": "display_data"
    }
   ],
   "source": [
    "acc = history.history['acc']\n",
    "val_acc = history.history['val_acc']\n",
    "\n",
    "epochs = range(1, len(acc) + 1)\n",
    "\n",
    "plt.plot(epochs, acc, 'bo', label='Training accuracy')\n",
    "plt.plot(epochs, val_acc, 'b', label='Validation accuracy')\n",
    "plt.title('Training and validation accuracy')\n",
    "plt.xlabel('Epochs')\n",
    "plt.ylabel('Accuracy')\n",
    "plt.legend()\n",
    "plt.savefig('running_result/Google-News-300-acc-multilabel-{}.svg'.format(datetime.datetime.today()))\n",
    "plt.show()\n"
   ]
  },
  {
   "cell_type": "markdown",
   "metadata": {},
   "source": [
    "# Load model"
   ]
  },
  {
   "cell_type": "code",
   "execution_count": null,
   "metadata": {},
   "outputs": [],
   "source": [
    "from keras.models import load_model\n",
    "model = load_model('model/model-vocabulary-nn.h5')"
   ]
  },
  {
   "cell_type": "code",
   "execution_count": 77,
   "metadata": {},
   "outputs": [
    {
     "name": "stdout",
     "output_type": "stream",
     "text": [
      "3355/3355 [==============================] - 27s 8ms/step\n",
      "Test score: 1.4517079295060318\n",
      "Test accuracy: 0.8229508198320243\n"
     ]
    }
   ],
   "source": [
    "score, acc = model.evaluate(data_test_X, data_test_y, batch_size=batch_size)\n",
    "print('Test score:', score)\n",
    "print('Test accuracy:', acc)"
   ]
  },
  {
   "cell_type": "code",
   "execution_count": 192,
   "metadata": {},
   "outputs": [],
   "source": [
    "y_pred = model.predict(x=data_test_X)"
   ]
  },
  {
   "cell_type": "code",
   "execution_count": 193,
   "metadata": {},
   "outputs": [],
   "source": [
    "y_pred_label = np.zeros_like(y_pred)\n",
    "y_pred_label[np.arange(len(y_pred)), y_pred.argmax(1)] = 1"
   ]
  },
  {
   "cell_type": "code",
   "execution_count": 194,
   "metadata": {},
   "outputs": [
    {
     "data": {
      "text/plain": [
       "array([[0., 0., 0., ..., 0., 0., 0.],\n",
       "       [1., 0., 0., ..., 0., 0., 0.],\n",
       "       [0., 0., 0., ..., 0., 0., 0.],\n",
       "       ...,\n",
       "       [0., 0., 0., ..., 0., 0., 0.],\n",
       "       [0., 0., 0., ..., 0., 0., 0.],\n",
       "       [0., 0., 0., ..., 0., 0., 0.]], dtype=float32)"
      ]
     },
     "execution_count": 194,
     "metadata": {},
     "output_type": "execute_result"
    }
   ],
   "source": [
    "y_pred_label"
   ]
  },
  {
   "cell_type": "code",
   "execution_count": 195,
   "metadata": {},
   "outputs": [
    {
     "data": {
      "text/plain": [
       "(3347, 73)"
      ]
     },
     "execution_count": 195,
     "metadata": {},
     "output_type": "execute_result"
    }
   ],
   "source": [
    "y_pred_label.shape"
   ]
  },
  {
   "cell_type": "code",
   "execution_count": 196,
   "metadata": {},
   "outputs": [
    {
     "data": {
      "text/plain": [
       "0.6235434717657604"
      ]
     },
     "execution_count": 196,
     "metadata": {},
     "output_type": "execute_result"
    }
   ],
   "source": [
    "from sklearn.metrics import accuracy_score\n",
    "accuracy_score(y_pred_label, data_test_y)"
   ]
  },
  {
   "cell_type": "code",
   "execution_count": null,
   "metadata": {},
   "outputs": [],
   "source": []
  }
 ],
 "metadata": {
  "kernelspec": {
   "display_name": "Python 3",
   "language": "python",
   "name": "python3"
  },
  "language_info": {
   "codemirror_mode": {
    "name": "ipython",
    "version": 3
   },
   "file_extension": ".py",
   "mimetype": "text/x-python",
   "name": "python",
   "nbconvert_exporter": "python",
   "pygments_lexer": "ipython3",
   "version": "3.6.7"
  }
 },
 "nbformat": 4,
 "nbformat_minor": 2
}
