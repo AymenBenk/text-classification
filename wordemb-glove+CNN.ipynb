{
 "cells": [
  {
   "cell_type": "markdown",
   "metadata": {},
   "source": [
    "# Word Embedding + CNN"
   ]
  },
  {
   "cell_type": "markdown",
   "metadata": {},
   "source": [
    "1. x_train: \\[text1, text2, ...\\]\n",
    "   y_train: \\[[label11, label12, ...], [label21, ...], ...\\]\n",
    "\n",
    "2. Generate vocabulary set and get token_to_id map. This map will map a word to an index in vocabulary space. Transform text to \\[index1, index2, ..., \\]. \n",
    "\n",
    "   Padded sequences to fixed length (750, )\n",
    "    \n",
    "3. Word Vector - Glove 100\n",
    "\n",
    "4. Do classification by CNN\n",
    "\n",
    "![](https://i.loli.net/2018/12/22/5c1df43d21bd7.jpg)\n",
    "\n",
    "5. Using MultilabelBinarizer mapping \\[label1, label2, ...\\] to [1,1,0,0,...,] by one-hot.\n",
    "\n",
    "The accuracy is 0.82."
   ]
  },
  {
   "cell_type": "code",
   "execution_count": 1,
   "metadata": {},
   "outputs": [],
   "source": [
    "%load_ext autoreload"
   ]
  },
  {
   "cell_type": "code",
   "execution_count": 2,
   "metadata": {},
   "outputs": [],
   "source": [
    "%autoreload"
   ]
  },
  {
   "cell_type": "code",
   "execution_count": 3,
   "metadata": {},
   "outputs": [],
   "source": [
    "import os\n",
    "os.environ[\"KMP_DUPLICATE_LIB_OK\"]=\"TRUE\""
   ]
  },
  {
   "cell_type": "code",
   "execution_count": 4,
   "metadata": {},
   "outputs": [],
   "source": [
    "result_path = 'running_result/wordemb_glove_cnn'"
   ]
  },
  {
   "cell_type": "markdown",
   "metadata": {},
   "source": [
    "## Data preprocess part\n",
    "\n",
    "We construct documents as $[d_1, d_2, ..., d_m]$ and labels as $[y_1, ..., y_m]$."
   ]
  },
  {
   "cell_type": "code",
   "execution_count": 5,
   "metadata": {},
   "outputs": [
    {
     "name": "stdout",
     "output_type": "stream",
     "text": [
      "========== Extract data from pickle files ==========\n"
     ]
    }
   ],
   "source": [
    "from src.data_preprocess.preprocess import DataSet\n",
    "dataset = DataSet()\n",
    "raw_x_train, raw_y_train, raw_x_test, raw_y_test = dataset.get_train_and_test_documents()"
   ]
  },
  {
   "cell_type": "markdown",
   "metadata": {},
   "source": [
    "Tokenize document text into a list of tokens \\['u.s.', 'econom', 'data', 'debt', 'chicago', 'interest',...\\] using NLTK library and remove stop-words from tokens, such as \\['a', 'the', ...\\]. "
   ]
  },
  {
   "cell_type": "code",
   "execution_count": 6,
   "metadata": {},
   "outputs": [],
   "source": [
    "from nltk.tokenize import word_tokenize\n",
    "from src.data_preprocess.preprocess import stop_words_\n",
    "import re\n",
    "\n",
    "def convert_text_to_word_list(text: str) -> []:\n",
    "    word_tokens = word_tokenize(text)\n",
    "    tokens = []\n",
    "    for word in word_tokens:\n",
    "        # remove punctturation and stop word\n",
    "        word = word.replace('*', '')\n",
    "        if re.compile(r'[a-z]').search(word) is None or word in stop_words_ or len(word) <= 3:\n",
    "            continue\n",
    "        tokens.append(word)\n",
    "    return tokens"
   ]
  },
  {
   "cell_type": "code",
   "execution_count": 7,
   "metadata": {},
   "outputs": [
    {
     "data": {
      "text/plain": [
       "(7310, 7310, 3353, 3353)"
      ]
     },
     "execution_count": 7,
     "metadata": {},
     "output_type": "execute_result"
    }
   ],
   "source": [
    "from nltk.tokenize import word_tokenize\n",
    "x_train = []\n",
    "y_train = raw_y_train.copy()\n",
    "x_test = []\n",
    "y_test = []\n",
    "bag_of_classes = set()\n",
    "\n",
    "for i, x in enumerate(raw_x_train):\n",
    "    bag_of_classes = bag_of_classes.union(raw_y_train[i])\n",
    "    tokens = convert_text_to_word_list(x)\n",
    "    x_train.append(' '.join(tokens))\n",
    "        \n",
    "for i, x in enumerate(raw_x_test):\n",
    "    labels = [class_ for class_ in raw_y_test[i] if class_ in bag_of_classes]\n",
    "    if len(labels) == 0:\n",
    "        continue\n",
    "    tokens = convert_text_to_word_list(x)\n",
    "    x_test.append(' '.join(tokens))\n",
    "    y_test.append(labels)\n",
    "\n",
    "len(x_train), len(y_train), len(x_test), len(y_test)"
   ]
  },
  {
   "cell_type": "code",
   "execution_count": 8,
   "metadata": {},
   "outputs": [
    {
     "data": {
      "text/plain": [
       "'summit petroleum corp sells shares abilene texas march summit petroleum corp sold shares common stock halbert associates company shares previously held consolidated energy corp harken hogi addition david halbert president chief executive officer halbert abilene investment firm named chairman chief executive summit company halbert charles bruce james burke named directors expanding board summit added company burke president chief executive allied comprehensive health abilene bruce partner washington firm butler binion summit intends actively seek acquisitions increase asset base reuter'"
      ]
     },
     "execution_count": 8,
     "metadata": {},
     "output_type": "execute_result"
    }
   ],
   "source": [
    "x_train[300]"
   ]
  },
  {
   "cell_type": "markdown",
   "metadata": {},
   "source": [
    "# Convert text to vector"
   ]
  },
  {
   "cell_type": "code",
   "execution_count": 9,
   "metadata": {},
   "outputs": [
    {
     "name": "stderr",
     "output_type": "stream",
     "text": [
      "Using TensorFlow backend.\n"
     ]
    },
    {
     "data": {
      "text/plain": [
       "23292"
      ]
     },
     "execution_count": 9,
     "metadata": {},
     "output_type": "execute_result"
    }
   ],
   "source": [
    "from keras.preprocessing.text import Tokenizer\n",
    "\n",
    "MAX_NUM_WORDS = 20000\n",
    "\n",
    "tokenizer = Tokenizer(num_words=MAX_NUM_WORDS, oov_token='UNK')\n",
    "tokenizer.fit_on_texts(x_train)\n",
    "sequences_train = tokenizer.texts_to_sequences(x_train)\n",
    "sequences_test = tokenizer.texts_to_sequences(x_test)\n",
    "\n",
    "len(tokenizer.word_index)"
   ]
  },
  {
   "cell_type": "code",
   "execution_count": 10,
   "metadata": {},
   "outputs": [
    {
     "data": {
      "text/plain": [
       "23292"
      ]
     },
     "execution_count": 10,
     "metadata": {},
     "output_type": "execute_result"
    }
   ],
   "source": [
    "word_index = tokenizer.word_index\n",
    "len(word_index)"
   ]
  },
  {
   "cell_type": "code",
   "execution_count": 11,
   "metadata": {},
   "outputs": [
    {
     "data": {
      "text/plain": [
       "((7310, 730), (3353, 730))"
      ]
     },
     "execution_count": 11,
     "metadata": {},
     "output_type": "execute_result"
    }
   ],
   "source": [
    "from keras.preprocessing.sequence import pad_sequences\n",
    "\n",
    "MAX_SEQUENCE_LENGTH = 730\n",
    "\n",
    "data_train_X = pad_sequences(sequences_train, maxlen=MAX_SEQUENCE_LENGTH, padding='post')\n",
    "data_test_X = pad_sequences(sequences_test, maxlen=MAX_SEQUENCE_LENGTH, padding='post')\n",
    "data_train_X.shape, data_test_X.shape"
   ]
  },
  {
   "cell_type": "code",
   "execution_count": 12,
   "metadata": {},
   "outputs": [
    {
     "data": {
      "text/plain": [
       "array([ 3332,   230,    12,   704,    17,  9420,   296,     3,  3332,\n",
       "         230,    12,   203,    17,    69,    18,  8076,  1136,    10,\n",
       "          17,   211,   234,   774,   200,    12, 14861, 14862,   576,\n",
       "        1097,  8076,   106,   396,   327,   711,  8076,  9420,    85,\n",
       "         195,  1029,   129,   396,   327,  3332,    10,  8076,  1972,\n",
       "        4108,   759,  9421,  1029,   488,  2016,    53,  3332,    67,\n",
       "          10,  9421,   106,   396,   327,   967,  2830,   776,  9420,\n",
       "        4108,  1470,    57,   195,  4109, 14863,  3332,  1085,  2209,\n",
       "         548,   658,    62,  1099,   312,     4,     0,     0,     0,\n",
       "           0,     0,     0,     0,     0,     0,     0,     0,     0,\n",
       "           0,     0,     0,     0,     0,     0,     0,     0,     0,\n",
       "           0,     0,     0,     0,     0,     0,     0,     0,     0,\n",
       "           0,     0,     0,     0,     0,     0,     0,     0,     0,\n",
       "           0,     0,     0,     0,     0,     0,     0,     0,     0,\n",
       "           0,     0,     0,     0,     0,     0,     0,     0,     0,\n",
       "           0,     0,     0,     0,     0,     0,     0,     0,     0,\n",
       "           0,     0,     0,     0,     0,     0,     0,     0,     0,\n",
       "           0,     0,     0,     0,     0,     0,     0,     0,     0,\n",
       "           0,     0,     0,     0,     0,     0,     0,     0,     0,\n",
       "           0,     0,     0,     0,     0,     0,     0,     0,     0,\n",
       "           0,     0,     0,     0,     0,     0,     0,     0,     0,\n",
       "           0,     0,     0,     0,     0,     0,     0,     0,     0,\n",
       "           0,     0,     0,     0,     0,     0,     0,     0,     0,\n",
       "           0,     0,     0,     0,     0,     0,     0,     0,     0,\n",
       "           0,     0,     0,     0,     0,     0,     0,     0,     0,\n",
       "           0,     0,     0,     0,     0,     0,     0,     0,     0,\n",
       "           0,     0,     0,     0,     0,     0,     0,     0,     0,\n",
       "           0,     0,     0,     0,     0,     0,     0,     0,     0,\n",
       "           0,     0,     0,     0,     0,     0,     0,     0,     0,\n",
       "           0,     0,     0,     0,     0,     0,     0,     0,     0,\n",
       "           0,     0,     0,     0,     0,     0,     0,     0,     0,\n",
       "           0,     0,     0,     0,     0,     0,     0,     0,     0,\n",
       "           0,     0,     0,     0,     0,     0,     0,     0,     0,\n",
       "           0,     0,     0,     0,     0,     0,     0,     0,     0,\n",
       "           0,     0,     0,     0,     0,     0,     0,     0,     0,\n",
       "           0,     0,     0,     0,     0,     0,     0,     0,     0,\n",
       "           0,     0,     0,     0,     0,     0,     0,     0,     0,\n",
       "           0,     0,     0,     0,     0,     0,     0,     0,     0,\n",
       "           0,     0,     0,     0,     0,     0,     0,     0,     0,\n",
       "           0,     0,     0,     0,     0,     0,     0,     0,     0,\n",
       "           0,     0,     0,     0,     0,     0,     0,     0,     0,\n",
       "           0,     0,     0,     0,     0,     0,     0,     0,     0,\n",
       "           0,     0,     0,     0,     0,     0,     0,     0,     0,\n",
       "           0,     0,     0,     0,     0,     0,     0,     0,     0,\n",
       "           0,     0,     0,     0,     0,     0,     0,     0,     0,\n",
       "           0,     0,     0,     0,     0,     0,     0,     0,     0,\n",
       "           0,     0,     0,     0,     0,     0,     0,     0,     0,\n",
       "           0,     0,     0,     0,     0,     0,     0,     0,     0,\n",
       "           0,     0,     0,     0,     0,     0,     0,     0,     0,\n",
       "           0,     0,     0,     0,     0,     0,     0,     0,     0,\n",
       "           0,     0,     0,     0,     0,     0,     0,     0,     0,\n",
       "           0,     0,     0,     0,     0,     0,     0,     0,     0,\n",
       "           0,     0,     0,     0,     0,     0,     0,     0,     0,\n",
       "           0,     0,     0,     0,     0,     0,     0,     0,     0,\n",
       "           0,     0,     0,     0,     0,     0,     0,     0,     0,\n",
       "           0,     0,     0,     0,     0,     0,     0,     0,     0,\n",
       "           0,     0,     0,     0,     0,     0,     0,     0,     0,\n",
       "           0,     0,     0,     0,     0,     0,     0,     0,     0,\n",
       "           0,     0,     0,     0,     0,     0,     0,     0,     0,\n",
       "           0,     0,     0,     0,     0,     0,     0,     0,     0,\n",
       "           0,     0,     0,     0,     0,     0,     0,     0,     0,\n",
       "           0,     0,     0,     0,     0,     0,     0,     0,     0,\n",
       "           0,     0,     0,     0,     0,     0,     0,     0,     0,\n",
       "           0,     0,     0,     0,     0,     0,     0,     0,     0,\n",
       "           0,     0,     0,     0,     0,     0,     0,     0,     0,\n",
       "           0,     0,     0,     0,     0,     0,     0,     0,     0,\n",
       "           0,     0,     0,     0,     0,     0,     0,     0,     0,\n",
       "           0,     0,     0,     0,     0,     0,     0,     0,     0,\n",
       "           0,     0,     0,     0,     0,     0,     0,     0,     0,\n",
       "           0,     0,     0,     0,     0,     0,     0,     0,     0,\n",
       "           0,     0,     0,     0,     0,     0,     0,     0,     0,\n",
       "           0,     0,     0,     0,     0,     0,     0,     0,     0,\n",
       "           0,     0,     0,     0,     0,     0,     0,     0,     0,\n",
       "           0,     0,     0,     0,     0,     0,     0,     0,     0,\n",
       "           0,     0,     0,     0,     0,     0,     0,     0,     0,\n",
       "           0,     0,     0,     0,     0,     0,     0,     0,     0,\n",
       "           0,     0,     0,     0,     0,     0,     0,     0,     0,\n",
       "           0,     0,     0,     0,     0,     0,     0,     0,     0,\n",
       "           0,     0,     0,     0,     0,     0,     0,     0,     0,\n",
       "           0,     0,     0,     0,     0,     0,     0,     0,     0,\n",
       "           0,     0,     0,     0,     0,     0,     0,     0,     0,\n",
       "           0], dtype=int32)"
      ]
     },
     "execution_count": 12,
     "metadata": {},
     "output_type": "execute_result"
    }
   ],
   "source": [
    "data_train_X[300]"
   ]
  },
  {
   "cell_type": "code",
   "execution_count": 13,
   "metadata": {},
   "outputs": [
    {
     "data": {
      "text/plain": [
       "MultiLabelBinarizer(classes=None, sparse_output=False)"
      ]
     },
     "execution_count": 13,
     "metadata": {},
     "output_type": "execute_result"
    }
   ],
   "source": [
    "from sklearn.preprocessing import MultiLabelBinarizer\n",
    "\n",
    "lb = MultiLabelBinarizer()\n",
    "lb.fit(y_train)"
   ]
  },
  {
   "cell_type": "code",
   "execution_count": 14,
   "metadata": {},
   "outputs": [
    {
     "data": {
      "text/plain": [
       "(array([[0, 0, 0, ..., 0, 0, 0],\n",
       "        [1, 0, 0, ..., 0, 0, 0],\n",
       "        [0, 0, 0, ..., 0, 0, 0],\n",
       "        ...,\n",
       "        [1, 0, 0, ..., 0, 0, 0],\n",
       "        [0, 0, 0, ..., 0, 0, 0],\n",
       "        [1, 0, 0, ..., 0, 0, 0]]), (3353, 88))"
      ]
     },
     "execution_count": 14,
     "metadata": {},
     "output_type": "execute_result"
    }
   ],
   "source": [
    "y_train_vector = lb.transform(y_train)\n",
    "y_test_vector = lb.transform(y_test)\n",
    "y_train_vector[::300], y_test_vector.shape"
   ]
  },
  {
   "cell_type": "code",
   "execution_count": 15,
   "metadata": {},
   "outputs": [
    {
     "data": {
      "text/plain": [
       "467"
      ]
     },
     "execution_count": 15,
     "metadata": {},
     "output_type": "execute_result"
    }
   ],
   "source": [
    "multi_vectors = [vector for vector in y_test_vector if sum(vector) > 1]\n",
    "len(multi_vectors)"
   ]
  },
  {
   "cell_type": "code",
   "execution_count": 16,
   "metadata": {},
   "outputs": [],
   "source": [
    "from sklearn.model_selection import train_test_split\n",
    "\n",
    "train_X, val_x, train_y, val_y = train_test_split(data_train_X, y_train_vector, test_size=1000, random_state=65)\n",
    "\n",
    "data_test_y = y_test_vector"
   ]
  },
  {
   "cell_type": "markdown",
   "metadata": {},
   "source": [
    "# Build word vector matrix\n",
    "\n",
    "Using word2vec algorithm to train the word vector on document. We can get a dict {str: (300,)} as result.\n",
    "\n",
    "'spokesman': \\[-0.0147094, -0.05737305, 0.14257812, -0.29882812, 0.15527344, -0.28710938, 0.05151367, -0.03125, …\\]\n",
    "\n",
    "Convert each document \"economy each year...\" -> (n, 300) word vector. Let n = 1500. Padding documents with fewer words than 1500. Now each document is (1500, 300) matrix and all document format as a (m, 1500, 300) tensor.\n"
   ]
  },
  {
   "cell_type": "code",
   "execution_count": 19,
   "metadata": {},
   "outputs": [],
   "source": [
    "# Use glove twitter 100 dimension word vector\n",
    "import gensim.downloader as api\n",
    "embedding_wv_model = api.load('glove-twitter-100')"
   ]
  },
  {
   "cell_type": "code",
   "execution_count": 21,
   "metadata": {},
   "outputs": [],
   "source": [
    "import numpy as np\n",
    "EMBEDDING_DIM = 100\n",
    "embedding_matrix = np.zeros((len(word_index) + 1, EMBEDDING_DIM))\n",
    "\n",
    "for word, i in word_index.items():\n",
    "    if word in embedding_wv_model.vocab:\n",
    "        embedding_matrix[i] = embedding_wv_model.get_vector(word)"
   ]
  },
  {
   "cell_type": "code",
   "execution_count": 22,
   "metadata": {},
   "outputs": [
    {
     "data": {
      "text/plain": [
       "array([-1.27159998e-01,  3.49510014e-01,  3.90439987e-01, -6.51180029e-01,\n",
       "        4.40220013e-02,  2.88340002e-01, -1.26580000e-01, -5.56550026e-01,\n",
       "        1.47919998e-01, -5.60670018e-01,  1.49820000e-01, -6.71419978e-01,\n",
       "       -3.33349991e+00,  7.08170002e-04, -4.05539989e-01, -6.56479970e-02,\n",
       "        2.74619997e-01, -4.39029992e-01,  3.42299998e-01, -6.02940023e-01,\n",
       "       -8.10389996e-01,  1.00160003e-01,  3.88460010e-01,  2.32270002e-01,\n",
       "       -3.81590009e-01,  7.40079999e-01, -5.59740007e-01,  1.31990004e+00,\n",
       "        3.21170002e-01, -8.99859965e-02, -7.82540023e-01, -9.00610030e-01,\n",
       "       -1.30879998e+00,  9.89580005e-02,  1.09300005e+00,  1.65890008e-02,\n",
       "        4.78139997e-01,  6.59020007e-01, -1.17590003e-01, -1.79450005e-01,\n",
       "       -4.31760013e-01,  6.03169978e-01,  2.16169998e-01, -6.07699990e-01,\n",
       "        2.04779997e-01,  4.66010004e-01, -2.12229997e-01,  1.05340004e+00,\n",
       "       -1.11469999e-01,  3.70609999e-01,  1.93700001e-01, -4.06619996e-01,\n",
       "        3.86739999e-01,  6.70469999e-01, -6.73510015e-01,  9.61619988e-03,\n",
       "        5.67349970e-01, -2.82779992e-01, -5.84580004e-02, -3.37599993e-01,\n",
       "       -3.68149996e-01, -1.75669998e-01, -3.26050013e-01,  4.31010008e-01,\n",
       "        8.48699987e-01, -8.48739967e-02,  2.52519995e-01,  4.77019995e-02,\n",
       "        1.93259999e-01, -5.42339981e-01,  9.32729989e-02,  7.93470025e-01,\n",
       "       -5.90770006e-01,  7.61910021e-01,  3.57479990e-01, -4.63889986e-01,\n",
       "        7.53009983e-04,  2.52339989e-01,  1.99890003e-01,  2.00870007e-01,\n",
       "        1.02869999e+00,  1.02850003e-02,  3.49420011e-01, -2.21550003e-01,\n",
       "       -1.42120004e-01,  6.70159981e-02,  9.35980022e-01, -3.36639993e-02,\n",
       "       -9.93099988e-01,  4.01829988e-01, -7.64919966e-02,  6.69480026e-01,\n",
       "        1.02349997e+00,  7.41720021e-01, -2.92079985e-01, -1.14269996e+00,\n",
       "       -4.16209996e-01, -6.42030001e-01, -9.94890034e-02, -1.06160000e-01])"
      ]
     },
     "execution_count": 22,
     "metadata": {},
     "output_type": "execute_result"
    }
   ],
   "source": [
    "embedding_matrix[200]"
   ]
  },
  {
   "cell_type": "markdown",
   "metadata": {},
   "source": [
    "# Classification.\n",
    "\n",
    "We use Keras to train neural network part. The shape of input layer is (1500, 300). The input layer connects to three convolution layer of which the region size is 3, 4, 5 respectively. Each layer contains 256 filters, the stride is 1 and the activation function is 'RELU'. The result of CNN will feed into max pooling layer. Then, concat and flatten all filters. Use fully-connected neural networks with softmax to classify labels. Combining with dropout (0.2) to avoid overfitting."
   ]
  },
  {
   "cell_type": "code",
   "execution_count": 23,
   "metadata": {},
   "outputs": [],
   "source": [
    "import keras\n",
    "import keras.layers as L\n",
    "from keras.models import Model"
   ]
  },
  {
   "cell_type": "code",
   "execution_count": 24,
   "metadata": {},
   "outputs": [],
   "source": [
    "input_layer = L.Input(shape=(MAX_SEQUENCE_LENGTH,), dtype='int32')\n",
    "l_emd = L.Embedding(input_dim=len(word_index)+1, \n",
    "                    output_dim=EMBEDDING_DIM, \n",
    "                    weights=[embedding_matrix], \n",
    "                    input_length=MAX_SEQUENCE_LENGTH, \n",
    "                    trainable=False)(input_layer)\n",
    "l_conv1 = L.Conv1D(256, 3, padding='same', strides=1, activation='relu')(l_emd)\n",
    "l_maxpool1 = L.MaxPool1D(4)(l_conv1)\n",
    "\n",
    "l_conv2 = L.Conv1D(256, 4, padding='same', strides=1, activation='relu')(l_emd)\n",
    "l_maxpool2 = L.MaxPool1D(4)(l_conv2)\n",
    "\n",
    "l_conv3 = L.Conv1D(256, 5, padding='same', strides=1, activation='relu')(l_emd)\n",
    "l_maxpool3 = L.MaxPool1D(4)(l_conv2)\n",
    "\n",
    "l_combined = L.Concatenate()([l_maxpool1, l_maxpool2, l_maxpool3])\n",
    "flat = L.Flatten()(l_combined)\n",
    "drop = L.Dropout(0.2)(flat)\n",
    "\n",
    "output = L.Dense(y_train_vector.shape[1], activation='softmax')(drop)\n",
    "\n",
    "model = Model(input_layer, output)"
   ]
  },
  {
   "cell_type": "code",
   "execution_count": 25,
   "metadata": {},
   "outputs": [
    {
     "data": {
      "text/plain": [
       "TensorShape([Dimension(None), Dimension(730), Dimension(256)])"
      ]
     },
     "execution_count": 25,
     "metadata": {},
     "output_type": "execute_result"
    }
   ],
   "source": [
    "l_conv3.shape"
   ]
  },
  {
   "cell_type": "code",
   "execution_count": 26,
   "metadata": {},
   "outputs": [],
   "source": [
    "model.compile(optimizer='adam', loss='categorical_crossentropy', metrics=['accuracy'])"
   ]
  },
  {
   "cell_type": "code",
   "execution_count": 27,
   "metadata": {},
   "outputs": [
    {
     "name": "stdout",
     "output_type": "stream",
     "text": [
      "Train on 6310 samples, validate on 1000 samples\n",
      "Epoch 1/15\n",
      "6310/6310 [==============================] - 94s 15ms/step - loss: 4.0090 - acc: 0.4626 - val_loss: 2.6734 - val_acc: 0.5520\n",
      "Epoch 2/15\n",
      "6310/6310 [==============================] - 94s 15ms/step - loss: 2.0094 - acc: 0.6655 - val_loss: 1.8840 - val_acc: 0.6930\n",
      "Epoch 3/15\n",
      "6310/6310 [==============================] - 97s 15ms/step - loss: 1.2363 - acc: 0.7979 - val_loss: 1.6269 - val_acc: 0.7620\n",
      "Epoch 4/15\n",
      "6310/6310 [==============================] - 101s 16ms/step - loss: 0.9670 - acc: 0.8675 - val_loss: 1.6371 - val_acc: 0.7860\n",
      "Epoch 5/15\n",
      "6310/6310 [==============================] - 92s 15ms/step - loss: 0.9040 - acc: 0.8960 - val_loss: 1.6514 - val_acc: 0.7880\n",
      "Epoch 00005: early stopping\n"
     ]
    }
   ],
   "source": [
    "# early stoppping\n",
    "from keras.callbacks import EarlyStopping\n",
    "early_stopping = EarlyStopping(monitor='val_loss', patience=2, verbose=2)\n",
    "\n",
    "batch_size = 256\n",
    "epochs = 15\n",
    "\n",
    "history = model.fit(train_X, \n",
    "          train_y,\n",
    "          batch_size=batch_size,\n",
    "          epochs=epochs,\n",
    "          validation_data=(val_x, val_y),\n",
    "          callbacks=[early_stopping])"
   ]
  },
  {
   "cell_type": "markdown",
   "metadata": {},
   "source": [
    "# Plot loss for training dataset and validation dataset"
   ]
  },
  {
   "cell_type": "code",
   "execution_count": 29,
   "metadata": {},
   "outputs": [
    {
     "data": {
      "image/png": "[encoded data removed]",
      "text/plain": [
       "<Figure size 432x288 with 1 Axes>"
      ]
     },
     "metadata": {
      "needs_background": "light"
     },
     "output_type": "display_data"
    }
   ],
   "source": [
    "import matplotlib.pyplot as plt\n",
    "import datetime\n",
    "\n",
    "loss = history.history['loss']\n",
    "val_loss = history.history['val_loss']\n",
    "\n",
    "epochs = range(1, len(loss) + 1)\n",
    "\n",
    "plt.plot(epochs, loss, 'bo', label='Training loss')\n",
    "plt.plot(epochs, val_loss, 'b', label='Validation loss')\n",
    "plt.title('Training and validation loss')\n",
    "plt.xlabel('Epochs')\n",
    "plt.ylabel('Loss')\n",
    "plt.legend()\n",
    "\n",
    "if not os.path.exists(result_path):\n",
    "    os.mkdir(result_path)\n",
    "\n",
    "plt.savefig('{}/Google-News-300-loss-multilabel-{}.svg'.format(result_path, datetime.datetime.today()))\n",
    "plt.show()\n"
   ]
  },
  {
   "cell_type": "code",
   "execution_count": 30,
   "metadata": {},
   "outputs": [
    {
     "data": {
      "image/png": "[encoded data removed]",
      "text/plain": [
       "<Figure size 432x288 with 1 Axes>"
      ]
     },
     "metadata": {
      "needs_background": "light"
     },
     "output_type": "display_data"
    }
   ],
   "source": [
    "acc = history.history['acc']\n",
    "val_acc = history.history['val_acc']\n",
    "\n",
    "epochs = range(1, len(acc) + 1)\n",
    "\n",
    "plt.plot(epochs, acc, 'bo', label='Training accuracy')\n",
    "plt.plot(epochs, val_acc, 'b', label='Validation accuracy')\n",
    "plt.title('Training and validation accuracy')\n",
    "plt.xlabel('Epochs')\n",
    "plt.ylabel('Accuracy')\n",
    "plt.legend()\n",
    "plt.savefig('{}/Google-News-300-acc-multilabel-{}.svg'.format(result_path, datetime.datetime.today()))\n",
    "plt.show()\n"
   ]
  },
  {
   "cell_type": "markdown",
   "metadata": {},
   "source": [
    "# Test Metric"
   ]
  },
  {
   "cell_type": "code",
   "execution_count": 31,
   "metadata": {},
   "outputs": [
    {
     "name": "stdout",
     "output_type": "stream",
     "text": [
      "3353/3353 [==============================] - 14s 4ms/step\n",
      "Test score: 2.1335588666242944\n",
      "Test accuracy: 0.7330748582558244\n"
     ]
    }
   ],
   "source": [
    "score, acc = model.evaluate(data_test_X, data_test_y, batch_size=batch_size)\n",
    "print('Test score:', score)\n",
    "print('Test accuracy:', acc)"
   ]
  },
  {
   "cell_type": "code",
   "execution_count": 32,
   "metadata": {},
   "outputs": [],
   "source": [
    "y_pred = model.predict(x=data_test_X)"
   ]
  },
  {
   "cell_type": "code",
   "execution_count": 33,
   "metadata": {},
   "outputs": [],
   "source": [
    "y_pred_label = np.zeros_like(y_pred)\n",
    "y_pred_label[np.arange(len(y_pred)), y_pred.argmax(1)] = 1"
   ]
  },
  {
   "cell_type": "code",
   "execution_count": 34,
   "metadata": {},
   "outputs": [
    {
     "data": {
      "text/plain": [
       "array([[0., 0., 0., ..., 0., 0., 0.],\n",
       "       [0., 0., 0., ..., 0., 0., 0.],\n",
       "       [0., 0., 0., ..., 0., 0., 0.],\n",
       "       ...,\n",
       "       [0., 0., 0., ..., 0., 0., 0.],\n",
       "       [0., 0., 0., ..., 0., 0., 0.],\n",
       "       [0., 0., 0., ..., 0., 0., 0.]], dtype=float32)"
      ]
     },
     "execution_count": 34,
     "metadata": {},
     "output_type": "execute_result"
    }
   ],
   "source": [
    "y_pred_label"
   ]
  },
  {
   "cell_type": "code",
   "execution_count": 35,
   "metadata": {},
   "outputs": [
    {
     "data": {
      "text/plain": [
       "(3353, 88)"
      ]
     },
     "execution_count": 35,
     "metadata": {},
     "output_type": "execute_result"
    }
   ],
   "source": [
    "y_pred_label.shape"
   ]
  },
  {
   "cell_type": "code",
   "execution_count": 36,
   "metadata": {},
   "outputs": [
    {
     "data": {
      "text/plain": [
       "0.6910229645093946"
      ]
     },
     "execution_count": 36,
     "metadata": {},
     "output_type": "execute_result"
    }
   ],
   "source": [
    "from sklearn.metrics import accuracy_score\n",
    "accuracy_score(y_pred_label, data_test_y)"
   ]
  }
 ],
 "metadata": {
  "kernelspec": {
   "display_name": "Python 3",
   "language": "python",
   "name": "python3"
  },
  "language_info": {
   "codemirror_mode": {
    "name": "ipython",
    "version": 3
   },
   "file_extension": ".py",
   "mimetype": "text/x-python",
   "name": "python",
   "nbconvert_exporter": "python",
   "pygments_lexer": "ipython3",
   "version": "3.6.6"
  }
 },
 "nbformat": 4,
 "nbformat_minor": 2
}
